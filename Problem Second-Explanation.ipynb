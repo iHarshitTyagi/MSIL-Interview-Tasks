{
 "cells": [
  {
   "cell_type": "markdown",
   "id": "191bb239",
   "metadata": {},
   "source": [
    "## Load the Data"
   ]
  },
  {
   "cell_type": "markdown",
   "id": "e9355512",
   "metadata": {},
   "source": [
    "#### First of all I am importing all the necessary libraries"
   ]
  },
  {
   "cell_type": "code",
   "execution_count": 1,
   "id": "45290771",
   "metadata": {},
   "outputs": [],
   "source": [
    "import pandas as pd\n",
    "import os \n",
    "import glob\n",
    "import numpy as np\n",
    "from scipy import stats\n",
    "import datetime\n",
    "import seaborn as sns\n",
    "import matplotlib.pyplot as plt\n",
    "%matplotlib inline"
   ]
  },
  {
   "cell_type": "markdown",
   "id": "02c92a75",
   "metadata": {},
   "source": [
    "#### Removing the warning to make code look cleaner"
   ]
  },
  {
   "cell_type": "code",
   "execution_count": 2,
   "id": "baf30008",
   "metadata": {},
   "outputs": [],
   "source": [
    "import warnings\n",
    "warnings.filterwarnings('ignore')"
   ]
  },
  {
   "cell_type": "markdown",
   "id": "1e33914a",
   "metadata": {},
   "source": [
    "#### Reading all the csv files in my current directory and creating the dataframe df1 that contains all the csv files data, using pandas concat function"
   ]
  },
  {
   "cell_type": "code",
   "execution_count": 3,
   "id": "6964f81f",
   "metadata": {},
   "outputs": [
    {
     "data": {
      "text/plain": [
       "['Test 4.csv', 'Test 5.csv', 'Test 2.csv', 'Test 3.csv', 'Test 1.csv']"
      ]
     },
     "execution_count": 3,
     "metadata": {},
     "output_type": "execute_result"
    }
   ],
   "source": [
    "csv_files = glob.glob('*.{}'.format('csv'))\n",
    "csv_files"
   ]
  },
  {
   "cell_type": "code",
   "execution_count": 4,
   "id": "9cba2a92",
   "metadata": {},
   "outputs": [],
   "source": [
    "df1 = pd.concat([pd.read_csv(f) for f in csv_files], ignore_index=True)"
   ]
  },
  {
   "cell_type": "code",
   "execution_count": 5,
   "id": "d5bf20d0",
   "metadata": {
    "scrolled": true
   },
   "outputs": [
    {
     "data": {
      "text/html": [
       "<div>\n",
       "<style scoped>\n",
       "    .dataframe tbody tr th:only-of-type {\n",
       "        vertical-align: middle;\n",
       "    }\n",
       "\n",
       "    .dataframe tbody tr th {\n",
       "        vertical-align: top;\n",
       "    }\n",
       "\n",
       "    .dataframe thead th {\n",
       "        text-align: right;\n",
       "    }\n",
       "</style>\n",
       "<table border=\"1\" class=\"dataframe\">\n",
       "  <thead>\n",
       "    <tr style=\"text-align: right;\">\n",
       "      <th></th>\n",
       "      <th>Part Name</th>\n",
       "      <th>Attribution code</th>\n",
       "      <th>Model</th>\n",
       "      <th>Fuel Type</th>\n",
       "      <th>Section</th>\n",
       "      <th>CITY</th>\n",
       "      <th>REGION</th>\n",
       "      <th>VEND_CODE</th>\n",
       "      <th>ODOMETER</th>\n",
       "      <th>PLANT_CODE</th>\n",
       "      <th>FCOK_DATE</th>\n",
       "      <th>REGD_DATE</th>\n",
       "      <th>REPAIR_DATE</th>\n",
       "      <th>PROCESSING_DATE</th>\n",
       "    </tr>\n",
       "  </thead>\n",
       "  <tbody>\n",
       "    <tr>\n",
       "      <th>0</th>\n",
       "      <td>Part 14</td>\n",
       "      <td>E</td>\n",
       "      <td>Model 14</td>\n",
       "      <td>DIESEL MODELS</td>\n",
       "      <td>Transmission</td>\n",
       "      <td>ALLAHABAD</td>\n",
       "      <td>N3</td>\n",
       "      <td>F031</td>\n",
       "      <td>27369</td>\n",
       "      <td>6</td>\n",
       "      <td>18-Jan-19</td>\n",
       "      <td>30-Jan-19</td>\n",
       "      <td>15-Jan-21</td>\n",
       "      <td>08-Apr-21</td>\n",
       "    </tr>\n",
       "    <tr>\n",
       "      <th>1</th>\n",
       "      <td>Part 14</td>\n",
       "      <td>E</td>\n",
       "      <td>Model 15</td>\n",
       "      <td>DIESEL MODELS</td>\n",
       "      <td>Transmission</td>\n",
       "      <td>NAWANSHAHR</td>\n",
       "      <td>N2</td>\n",
       "      <td>F031</td>\n",
       "      <td>16182</td>\n",
       "      <td>B</td>\n",
       "      <td>09-Oct-19</td>\n",
       "      <td>30-Oct-19</td>\n",
       "      <td>19-Mar-21</td>\n",
       "      <td>07-Apr-21</td>\n",
       "    </tr>\n",
       "  </tbody>\n",
       "</table>\n",
       "</div>"
      ],
      "text/plain": [
       "  Part Name Attribution code     Model      Fuel Type       Section  \\\n",
       "0   Part 14                E  Model 14  DIESEL MODELS  Transmission   \n",
       "1   Part 14                E  Model 15  DIESEL MODELS  Transmission   \n",
       "\n",
       "         CITY REGION VEND_CODE  ODOMETER PLANT_CODE  FCOK_DATE  REGD_DATE  \\\n",
       "0   ALLAHABAD     N3      F031     27369          6  18-Jan-19  30-Jan-19   \n",
       "1  NAWANSHAHR     N2      F031     16182          B  09-Oct-19  30-Oct-19   \n",
       "\n",
       "  REPAIR_DATE PROCESSING_DATE  \n",
       "0   15-Jan-21       08-Apr-21  \n",
       "1   19-Mar-21       07-Apr-21  "
      ]
     },
     "execution_count": 5,
     "metadata": {},
     "output_type": "execute_result"
    }
   ],
   "source": [
    "df1.head(2)"
   ]
  },
  {
   "cell_type": "markdown",
   "id": "6ca9093f",
   "metadata": {},
   "source": [
    "## Data Wrangling "
   ]
  },
  {
   "cell_type": "markdown",
   "id": "7b5bc485",
   "metadata": {},
   "source": [
    "#### Getting the information about all the features using pandas info() method (type of variable, not null count)"
   ]
  },
  {
   "cell_type": "code",
   "execution_count": 6,
   "id": "fc758147",
   "metadata": {
    "scrolled": true
   },
   "outputs": [
    {
     "name": "stdout",
     "output_type": "stream",
     "text": [
      "<class 'pandas.core.frame.DataFrame'>\n",
      "RangeIndex: 140006 entries, 0 to 140005\n",
      "Data columns (total 14 columns):\n",
      " #   Column            Non-Null Count   Dtype \n",
      "---  ------            --------------   ----- \n",
      " 0   Part Name         140006 non-null  object\n",
      " 1   Attribution code  140006 non-null  object\n",
      " 2   Model             140006 non-null  object\n",
      " 3   Fuel Type         140006 non-null  object\n",
      " 4   Section           140006 non-null  object\n",
      " 5   CITY              140006 non-null  object\n",
      " 6   REGION            140006 non-null  object\n",
      " 7   VEND_CODE         140006 non-null  object\n",
      " 8   ODOMETER          140006 non-null  int64 \n",
      " 9   PLANT_CODE        139998 non-null  object\n",
      " 10  FCOK_DATE         140006 non-null  object\n",
      " 11  REGD_DATE         139697 non-null  object\n",
      " 12  REPAIR_DATE       140006 non-null  object\n",
      " 13  PROCESSING_DATE   140006 non-null  object\n",
      "dtypes: int64(1), object(13)\n",
      "memory usage: 15.0+ MB\n"
     ]
    }
   ],
   "source": [
    "df1.info()"
   ]
  },
  {
   "cell_type": "markdown",
   "id": "47058eab",
   "metadata": {},
   "source": [
    "### Dealing with missing values"
   ]
  },
  {
   "cell_type": "markdown",
   "id": "19b38ef9",
   "metadata": {},
   "source": [
    "#### As null values are negligiable in comparison to whole dataset in count so dropping all the null values"
   ]
  },
  {
   "cell_type": "code",
   "execution_count": 7,
   "id": "d4344fe5",
   "metadata": {},
   "outputs": [
    {
     "data": {
      "text/plain": [
       "Part Name             0\n",
       "Attribution code      0\n",
       "Model                 0\n",
       "Fuel Type             0\n",
       "Section               0\n",
       "CITY                  0\n",
       "REGION                0\n",
       "VEND_CODE             0\n",
       "ODOMETER              0\n",
       "PLANT_CODE            8\n",
       "FCOK_DATE             0\n",
       "REGD_DATE           309\n",
       "REPAIR_DATE           0\n",
       "PROCESSING_DATE       0\n",
       "dtype: int64"
      ]
     },
     "execution_count": 7,
     "metadata": {},
     "output_type": "execute_result"
    }
   ],
   "source": [
    "df1.isna().sum()"
   ]
  },
  {
   "cell_type": "code",
   "execution_count": 8,
   "id": "68e43fd4",
   "metadata": {},
   "outputs": [],
   "source": [
    "df1.dropna(inplace=True)"
   ]
  },
  {
   "cell_type": "markdown",
   "id": "74f272a8",
   "metadata": {},
   "source": [
    "### Data Formatting"
   ]
  },
  {
   "cell_type": "markdown",
   "id": "28739431",
   "metadata": {},
   "source": [
    "#### Converting date columns into Pandas DateTime format"
   ]
  },
  {
   "cell_type": "code",
   "execution_count": 9,
   "id": "ff99c2e4",
   "metadata": {},
   "outputs": [],
   "source": [
    "date_cols = df1.columns[10:14]\n",
    "df1[date_cols] = df1[date_cols].apply(pd.to_datetime, errors='coerce')"
   ]
  },
  {
   "cell_type": "code",
   "execution_count": 10,
   "id": "3ce1f8ea",
   "metadata": {},
   "outputs": [
    {
     "name": "stdout",
     "output_type": "stream",
     "text": [
      "<class 'pandas.core.frame.DataFrame'>\n",
      "Int64Index: 139689 entries, 0 to 140005\n",
      "Data columns (total 14 columns):\n",
      " #   Column            Non-Null Count   Dtype         \n",
      "---  ------            --------------   -----         \n",
      " 0   Part Name         139689 non-null  object        \n",
      " 1   Attribution code  139689 non-null  object        \n",
      " 2   Model             139689 non-null  object        \n",
      " 3   Fuel Type         139689 non-null  object        \n",
      " 4   Section           139689 non-null  object        \n",
      " 5   CITY              139689 non-null  object        \n",
      " 6   REGION            139689 non-null  object        \n",
      " 7   VEND_CODE         139689 non-null  object        \n",
      " 8   ODOMETER          139689 non-null  int64         \n",
      " 9   PLANT_CODE        139689 non-null  object        \n",
      " 10  FCOK_DATE         139689 non-null  datetime64[ns]\n",
      " 11  REGD_DATE         139689 non-null  datetime64[ns]\n",
      " 12  REPAIR_DATE       139689 non-null  datetime64[ns]\n",
      " 13  PROCESSING_DATE   139689 non-null  datetime64[ns]\n",
      "dtypes: datetime64[ns](4), int64(1), object(9)\n",
      "memory usage: 16.0+ MB\n"
     ]
    }
   ],
   "source": [
    "df1.info()"
   ]
  },
  {
   "cell_type": "markdown",
   "id": "7949eb53",
   "metadata": {},
   "source": [
    "#### Creating new colummn which shows Usage Month\n",
    "I considered usage months from manufacturing date to repair date instead of this I could also use timframe from registration date to repair date"
   ]
  },
  {
   "cell_type": "code",
   "execution_count": 11,
   "id": "a89598e8",
   "metadata": {},
   "outputs": [],
   "source": [
    "df1['USAGE_MONTHS'] = round((df1['REPAIR_DATE'] - df1['FCOK_DATE']) / np.timedelta64(1, 'M'))"
   ]
  },
  {
   "cell_type": "code",
   "execution_count": 12,
   "id": "0095a64b",
   "metadata": {
    "scrolled": true
   },
   "outputs": [
    {
     "data": {
      "text/html": [
       "<div>\n",
       "<style scoped>\n",
       "    .dataframe tbody tr th:only-of-type {\n",
       "        vertical-align: middle;\n",
       "    }\n",
       "\n",
       "    .dataframe tbody tr th {\n",
       "        vertical-align: top;\n",
       "    }\n",
       "\n",
       "    .dataframe thead th {\n",
       "        text-align: right;\n",
       "    }\n",
       "</style>\n",
       "<table border=\"1\" class=\"dataframe\">\n",
       "  <thead>\n",
       "    <tr style=\"text-align: right;\">\n",
       "      <th></th>\n",
       "      <th>Part Name</th>\n",
       "      <th>Attribution code</th>\n",
       "      <th>Model</th>\n",
       "      <th>Fuel Type</th>\n",
       "      <th>Section</th>\n",
       "      <th>CITY</th>\n",
       "      <th>REGION</th>\n",
       "      <th>VEND_CODE</th>\n",
       "      <th>ODOMETER</th>\n",
       "      <th>PLANT_CODE</th>\n",
       "      <th>FCOK_DATE</th>\n",
       "      <th>REGD_DATE</th>\n",
       "      <th>REPAIR_DATE</th>\n",
       "      <th>PROCESSING_DATE</th>\n",
       "      <th>USAGE_MONTHS</th>\n",
       "    </tr>\n",
       "  </thead>\n",
       "  <tbody>\n",
       "    <tr>\n",
       "      <th>68366</th>\n",
       "      <td>Part 14</td>\n",
       "      <td>E</td>\n",
       "      <td>Model 15</td>\n",
       "      <td>DIESEL MODELS</td>\n",
       "      <td>Transmission</td>\n",
       "      <td>KAIPAMANGALAM</td>\n",
       "      <td>S3</td>\n",
       "      <td>F031</td>\n",
       "      <td>18062</td>\n",
       "      <td>A</td>\n",
       "      <td>2019-02-05</td>\n",
       "      <td>2019-02-23</td>\n",
       "      <td>2020-09-09</td>\n",
       "      <td>2020-09-28</td>\n",
       "      <td>19.0</td>\n",
       "    </tr>\n",
       "    <tr>\n",
       "      <th>40025</th>\n",
       "      <td>Part 2</td>\n",
       "      <td>E</td>\n",
       "      <td>Model 16</td>\n",
       "      <td>PETROL MODELS</td>\n",
       "      <td>Petrol Engine</td>\n",
       "      <td>DIBRUGARH</td>\n",
       "      <td>E3</td>\n",
       "      <td>T348</td>\n",
       "      <td>13849</td>\n",
       "      <td>7</td>\n",
       "      <td>2020-08-14</td>\n",
       "      <td>2020-09-18</td>\n",
       "      <td>2021-11-10</td>\n",
       "      <td>2022-01-13</td>\n",
       "      <td>15.0</td>\n",
       "    </tr>\n",
       "  </tbody>\n",
       "</table>\n",
       "</div>"
      ],
      "text/plain": [
       "      Part Name Attribution code     Model      Fuel Type        Section  \\\n",
       "68366   Part 14                E  Model 15  DIESEL MODELS   Transmission   \n",
       "40025    Part 2                E  Model 16  PETROL MODELS  Petrol Engine   \n",
       "\n",
       "                CITY REGION VEND_CODE  ODOMETER PLANT_CODE  FCOK_DATE  \\\n",
       "68366  KAIPAMANGALAM     S3      F031     18062          A 2019-02-05   \n",
       "40025      DIBRUGARH     E3      T348     13849          7 2020-08-14   \n",
       "\n",
       "       REGD_DATE REPAIR_DATE PROCESSING_DATE  USAGE_MONTHS  \n",
       "68366 2019-02-23  2020-09-09      2020-09-28          19.0  \n",
       "40025 2020-09-18  2021-11-10      2022-01-13          15.0  "
      ]
     },
     "execution_count": 12,
     "metadata": {},
     "output_type": "execute_result"
    }
   ],
   "source": [
    "df1.sample(2)"
   ]
  },
  {
   "cell_type": "markdown",
   "id": "4cd92416",
   "metadata": {},
   "source": [
    "### Outlier detection\n",
    "In our data we have two numerical values one is odometer readings and second the feature we just created USAGE_MONTHS <br>\n",
    "First I create the boxplot for both variables. <br>\n",
    "Then I calculate the 98 percentile value and removed the data which lies beyond that value\n",
    "\n"
   ]
  },
  {
   "cell_type": "code",
   "execution_count": 13,
   "id": "3a467204",
   "metadata": {
    "scrolled": true
   },
   "outputs": [
    {
     "data": {
      "text/plain": [
       "<AxesSubplot:>"
      ]
     },
     "execution_count": 13,
     "metadata": {},
     "output_type": "execute_result"
    },
    {
     "data": {
      "image/png": "[encoded data removed]",
      "text/plain": [
       "<Figure size 432x288 with 1 Axes>"
      ]
     },
     "metadata": {
      "needs_background": "light"
     },
     "output_type": "display_data"
    }
   ],
   "source": [
    "df1.boxplot(column = ['ODOMETER'])"
   ]
  },
  {
   "cell_type": "code",
   "execution_count": 14,
   "id": "46430c7b",
   "metadata": {
    "scrolled": true
   },
   "outputs": [
    {
     "data": {
      "text/plain": [
       "ODOMETER        39800.0\n",
       "USAGE_MONTHS       27.0\n",
       "Name: 0.98, dtype: float64"
      ]
     },
     "execution_count": 14,
     "metadata": {},
     "output_type": "execute_result"
    }
   ],
   "source": [
    " df1.quantile(0.98)"
   ]
  },
  {
   "cell_type": "code",
   "execution_count": 15,
   "id": "56781edc",
   "metadata": {},
   "outputs": [],
   "source": [
    "df2 = df1[df1['ODOMETER'] <= 40000]"
   ]
  },
  {
   "cell_type": "code",
   "execution_count": 16,
   "id": "bae903fc",
   "metadata": {
    "scrolled": true
   },
   "outputs": [
    {
     "data": {
      "text/plain": [
       "<AxesSubplot:>"
      ]
     },
     "execution_count": 16,
     "metadata": {},
     "output_type": "execute_result"
    },
    {
     "data": {
      "image/png": "[encoded data removed]",
      "text/plain": [
       "<Figure size 432x288 with 1 Axes>"
      ]
     },
     "metadata": {
      "needs_background": "light"
     },
     "output_type": "display_data"
    }
   ],
   "source": [
    "df2.boxplot(column = ['ODOMETER'])"
   ]
  },
  {
   "cell_type": "code",
   "execution_count": 17,
   "id": "ff32f06b",
   "metadata": {
    "scrolled": false
   },
   "outputs": [
    {
     "data": {
      "text/plain": [
       "<AxesSubplot:>"
      ]
     },
     "execution_count": 17,
     "metadata": {},
     "output_type": "execute_result"
    },
    {
     "data": {
      "image/png": "[encoded data removed]",
      "text/plain": [
       "<Figure size 432x288 with 1 Axes>"
      ]
     },
     "metadata": {
      "needs_background": "light"
     },
     "output_type": "display_data"
    }
   ],
   "source": [
    "df2.boxplot(column = ['USAGE_MONTHS'])"
   ]
  },
  {
   "cell_type": "code",
   "execution_count": 18,
   "id": "9ea42eed",
   "metadata": {},
   "outputs": [],
   "source": [
    "df3 = df2[df2['USAGE_MONTHS'] <= 28]"
   ]
  },
  {
   "cell_type": "code",
   "execution_count": 19,
   "id": "1bc20e58",
   "metadata": {
    "scrolled": true
   },
   "outputs": [
    {
     "data": {
      "text/plain": [
       "<AxesSubplot:>"
      ]
     },
     "execution_count": 19,
     "metadata": {},
     "output_type": "execute_result"
    },
    {
     "data": {
      "image/png": "[encoded data removed]",
      "text/plain": [
       "<Figure size 432x288 with 1 Axes>"
      ]
     },
     "metadata": {
      "needs_background": "light"
     },
     "output_type": "display_data"
    }
   ],
   "source": [
    "df3.boxplot(column = ['USAGE_MONTHS'])"
   ]
  },
  {
   "cell_type": "markdown",
   "id": "123bfc45",
   "metadata": {},
   "source": [
    "#### Here we could also use usual outlier detection methods <br>\n",
    "Using IQR = Q3(75) - Q1(25) and then calculating lower_bound = q1 - (iqr * 1.5) and upper_bound = q3 + (iqr * 1.5) by this formula <br>\n",
    "Or we could calculate z-score(scipy.stats.zscore) and removing values which got zscore value more than 3"
   ]
  },
  {
   "cell_type": "markdown",
   "id": "81c5884f",
   "metadata": {},
   "source": [
    "#### Converting usage months value into integer then bin these values into 3M, 6M, 12M and 12+M and use them as target "
   ]
  },
  {
   "cell_type": "code",
   "execution_count": 20,
   "id": "47605cb4",
   "metadata": {},
   "outputs": [],
   "source": [
    "df3[\"USAGE_MONTHS\"] = df3[\"USAGE_MONTHS\"].astype(int)"
   ]
  },
  {
   "cell_type": "markdown",
   "id": "ff55c8e3",
   "metadata": {},
   "source": [
    "### Binning"
   ]
  },
  {
   "cell_type": "code",
   "execution_count": 21,
   "id": "ee2a431a",
   "metadata": {},
   "outputs": [],
   "source": [
    "df3['target'] = pd.cut(df2['USAGE_MONTHS'], bins=[0,3,6,12,29], \n",
    "                          labels=['1', '2', '3', '0'])"
   ]
  },
  {
   "cell_type": "code",
   "execution_count": 22,
   "id": "94b681bf",
   "metadata": {
    "scrolled": true
   },
   "outputs": [],
   "source": [
    "df3.dropna(inplace = True)"
   ]
  },
  {
   "cell_type": "markdown",
   "id": "fa5354c4",
   "metadata": {},
   "source": [
    "#### When i counted the distinct values in each column using the pandas groupyby method I found out\n",
    "CITY has 1161 distinct values. <br> \n",
    "VEND_CODE has 109 distinct values. <br>\n",
    "REGION has 19 distinct values."
   ]
  },
  {
   "cell_type": "code",
   "execution_count": 23,
   "id": "314a5711",
   "metadata": {},
   "outputs": [
    {
     "data": {
      "text/plain": [
       "[1161, 109, 19]"
      ]
     },
     "execution_count": 23,
     "metadata": {},
     "output_type": "execute_result"
    }
   ],
   "source": [
    "[len(df3.groupby('CITY')),\n",
    " len(df3.groupby('VEND_CODE')),\n",
    " len(df3.groupby('REGION')),]"
   ]
  },
  {
   "cell_type": "code",
   "execution_count": 24,
   "id": "926b504b",
   "metadata": {
    "scrolled": true
   },
   "outputs": [
    {
     "data": {
      "text/plain": [
       "<AxesSubplot:xlabel='REGION'>"
      ]
     },
     "execution_count": 24,
     "metadata": {},
     "output_type": "execute_result"
    },
    {
     "data": {
      "image/png": "[encoded data removed]",
      "text/plain": [
       "<Figure size 432x288 with 1 Axes>"
      ]
     },
     "metadata": {
      "needs_background": "light"
     },
     "output_type": "display_data"
    }
   ],
   "source": [
    "df3.groupby(\"REGION\").size().plot(kind='bar')"
   ]
  },
  {
   "cell_type": "markdown",
   "id": "f88c07b7",
   "metadata": {},
   "source": [
    "#### I dropped these values for the sake of simplifying the model and dropped the date columns as they were already used to create usage months variable"
   ]
  },
  {
   "cell_type": "code",
   "execution_count": 25,
   "id": "df773839",
   "metadata": {},
   "outputs": [],
   "source": [
    "df4 = df3.drop(['CITY','VEND_CODE','FCOK_DATE','REGD_DATE', \n",
    "           'PROCESSING_DATE', 'REGION'], axis = 1)"
   ]
  },
  {
   "cell_type": "markdown",
   "id": "c19e8442",
   "metadata": {},
   "source": [
    "### Turning categorical variables into numerical"
   ]
  },
  {
   "cell_type": "markdown",
   "id": "045d86b8",
   "metadata": {},
   "source": [
    "Fuel Type has two values DIESEL MODELS and PETROL MODELS so I map these to 0 and 1"
   ]
  },
  {
   "cell_type": "code",
   "execution_count": 26,
   "id": "4e6e9697",
   "metadata": {},
   "outputs": [],
   "source": [
    "df4['Fuel Type'] = df4['Fuel Type'].map({'DIESEL MODELS':0, 'PETROL MODELS':1})"
   ]
  },
  {
   "cell_type": "markdown",
   "id": "fc2070b8",
   "metadata": {},
   "source": [
    "Renamed the columns"
   ]
  },
  {
   "cell_type": "code",
   "execution_count": 27,
   "id": "8e14089d",
   "metadata": {},
   "outputs": [],
   "source": [
    "df4.rename(columns = {'Fuel Type':'petrol','Part Name':'part', 'Model':'model',\n",
    "                       'Attribution code':'code','ODOMETER':'odometer','Section':'section',\n",
    "                      'PLANT_CODE':'plant','REPAIR_DATE':'faultdate','USAGE_MONTHS':'usage'}, inplace = True)"
   ]
  },
  {
   "cell_type": "markdown",
   "id": "1fa41d69",
   "metadata": {},
   "source": [
    "#### Encoding all the categorical variables into numerical using Label Encoder as it does not increase the dimensionality"
   ]
  },
  {
   "cell_type": "code",
   "execution_count": 28,
   "id": "c565a0c6",
   "metadata": {},
   "outputs": [],
   "source": [
    "from sklearn.preprocessing import LabelEncoder\n",
    "le_part = LabelEncoder()\n",
    "le_code = LabelEncoder()\n",
    "le_model = LabelEncoder()\n",
    "le_section = LabelEncoder()\n",
    "le_plant = LabelEncoder()\n",
    "\n",
    "df4['part'] = le_part.fit_transform(df4['part'])\n",
    "df4['code'] = le_code.fit_transform(df4['code'])\n",
    "df4['model'] = le_model.fit_transform(df4['model'])\n",
    "df4['section'] = le_section.fit_transform(df4['section'])\n",
    "df4['plant'] = le_plant.fit_transform(df4['plant'])"
   ]
  },
  {
   "cell_type": "raw",
   "id": "a9a8f149",
   "metadata": {},
   "source": [
    "from sklearn. preprocessing import LabelEncoder\n",
    "for col in df4.columns:\n",
    "    le = LabelEncoder ()\n",
    "    df4[col] = le.fit transform(df [col])\n",
    "df4.head ()"
   ]
  },
  {
   "cell_type": "markdown",
   "id": "1d78bbf8",
   "metadata": {},
   "source": [
    "#### Creating an new feature faultmonth from faultdate for plotting purpose"
   ]
  },
  {
   "cell_type": "code",
   "execution_count": 29,
   "id": "44f43aed",
   "metadata": {},
   "outputs": [],
   "source": [
    "df4['faultmonth'] = df4['faultdate'].dt.to_period('M')"
   ]
  },
  {
   "cell_type": "markdown",
   "id": "83f99714",
   "metadata": {},
   "source": [
    "Sorting the Values by faultdate"
   ]
  },
  {
   "cell_type": "code",
   "execution_count": 30,
   "id": "29f5dcfc",
   "metadata": {},
   "outputs": [],
   "source": [
    "df4.sort_values(by='faultdate', inplace = True)"
   ]
  },
  {
   "cell_type": "code",
   "execution_count": 31,
   "id": "c410ca8a",
   "metadata": {},
   "outputs": [],
   "source": [
    "df4.reset_index(inplace = True)\n",
    "df4.drop(['index','faultdate'], axis=1, inplace = True)"
   ]
  },
  {
   "cell_type": "code",
   "execution_count": 32,
   "id": "38a3d85a",
   "metadata": {
    "scrolled": true
   },
   "outputs": [
    {
     "data": {
      "text/html": [
       "<div>\n",
       "<style scoped>\n",
       "    .dataframe tbody tr th:only-of-type {\n",
       "        vertical-align: middle;\n",
       "    }\n",
       "\n",
       "    .dataframe tbody tr th {\n",
       "        vertical-align: top;\n",
       "    }\n",
       "\n",
       "    .dataframe thead th {\n",
       "        text-align: right;\n",
       "    }\n",
       "</style>\n",
       "<table border=\"1\" class=\"dataframe\">\n",
       "  <thead>\n",
       "    <tr style=\"text-align: right;\">\n",
       "      <th></th>\n",
       "      <th>part</th>\n",
       "      <th>code</th>\n",
       "      <th>model</th>\n",
       "      <th>petrol</th>\n",
       "      <th>section</th>\n",
       "      <th>odometer</th>\n",
       "      <th>plant</th>\n",
       "      <th>usage</th>\n",
       "    </tr>\n",
       "  </thead>\n",
       "  <tbody>\n",
       "    <tr>\n",
       "      <th>count</th>\n",
       "      <td>136335.000000</td>\n",
       "      <td>136335.000000</td>\n",
       "      <td>136335.000000</td>\n",
       "      <td>136335.000000</td>\n",
       "      <td>136335.000000</td>\n",
       "      <td>136335.000000</td>\n",
       "      <td>136335.000000</td>\n",
       "      <td>136335.000000</td>\n",
       "    </tr>\n",
       "    <tr>\n",
       "      <th>mean</th>\n",
       "      <td>11.175656</td>\n",
       "      <td>3.283148</td>\n",
       "      <td>8.159152</td>\n",
       "      <td>0.793465</td>\n",
       "      <td>4.744475</td>\n",
       "      <td>15952.705798</td>\n",
       "      <td>2.577497</td>\n",
       "      <td>14.811787</td>\n",
       "    </tr>\n",
       "    <tr>\n",
       "      <th>std</th>\n",
       "      <td>8.160103</td>\n",
       "      <td>1.323785</td>\n",
       "      <td>5.889122</td>\n",
       "      <td>0.404821</td>\n",
       "      <td>2.419431</td>\n",
       "      <td>10508.969083</td>\n",
       "      <td>1.814414</td>\n",
       "      <td>6.547104</td>\n",
       "    </tr>\n",
       "    <tr>\n",
       "      <th>min</th>\n",
       "      <td>0.000000</td>\n",
       "      <td>0.000000</td>\n",
       "      <td>0.000000</td>\n",
       "      <td>0.000000</td>\n",
       "      <td>0.000000</td>\n",
       "      <td>0.000000</td>\n",
       "      <td>0.000000</td>\n",
       "      <td>1.000000</td>\n",
       "    </tr>\n",
       "    <tr>\n",
       "      <th>25%</th>\n",
       "      <td>3.000000</td>\n",
       "      <td>4.000000</td>\n",
       "      <td>4.000000</td>\n",
       "      <td>1.000000</td>\n",
       "      <td>3.000000</td>\n",
       "      <td>7046.000000</td>\n",
       "      <td>1.000000</td>\n",
       "      <td>10.000000</td>\n",
       "    </tr>\n",
       "    <tr>\n",
       "      <th>50%</th>\n",
       "      <td>11.000000</td>\n",
       "      <td>4.000000</td>\n",
       "      <td>6.000000</td>\n",
       "      <td>1.000000</td>\n",
       "      <td>5.000000</td>\n",
       "      <td>13955.000000</td>\n",
       "      <td>3.000000</td>\n",
       "      <td>15.000000</td>\n",
       "    </tr>\n",
       "    <tr>\n",
       "      <th>75%</th>\n",
       "      <td>19.000000</td>\n",
       "      <td>4.000000</td>\n",
       "      <td>13.000000</td>\n",
       "      <td>1.000000</td>\n",
       "      <td>7.000000</td>\n",
       "      <td>23177.000000</td>\n",
       "      <td>4.000000</td>\n",
       "      <td>20.000000</td>\n",
       "    </tr>\n",
       "    <tr>\n",
       "      <th>max</th>\n",
       "      <td>24.000000</td>\n",
       "      <td>4.000000</td>\n",
       "      <td>22.000000</td>\n",
       "      <td>1.000000</td>\n",
       "      <td>8.000000</td>\n",
       "      <td>40000.000000</td>\n",
       "      <td>7.000000</td>\n",
       "      <td>28.000000</td>\n",
       "    </tr>\n",
       "  </tbody>\n",
       "</table>\n",
       "</div>"
      ],
      "text/plain": [
       "                part           code          model         petrol  \\\n",
       "count  136335.000000  136335.000000  136335.000000  136335.000000   \n",
       "mean       11.175656       3.283148       8.159152       0.793465   \n",
       "std         8.160103       1.323785       5.889122       0.404821   \n",
       "min         0.000000       0.000000       0.000000       0.000000   \n",
       "25%         3.000000       4.000000       4.000000       1.000000   \n",
       "50%        11.000000       4.000000       6.000000       1.000000   \n",
       "75%        19.000000       4.000000      13.000000       1.000000   \n",
       "max        24.000000       4.000000      22.000000       1.000000   \n",
       "\n",
       "             section       odometer          plant          usage  \n",
       "count  136335.000000  136335.000000  136335.000000  136335.000000  \n",
       "mean        4.744475   15952.705798       2.577497      14.811787  \n",
       "std         2.419431   10508.969083       1.814414       6.547104  \n",
       "min         0.000000       0.000000       0.000000       1.000000  \n",
       "25%         3.000000    7046.000000       1.000000      10.000000  \n",
       "50%         5.000000   13955.000000       3.000000      15.000000  \n",
       "75%         7.000000   23177.000000       4.000000      20.000000  \n",
       "max         8.000000   40000.000000       7.000000      28.000000  "
      ]
     },
     "execution_count": 32,
     "metadata": {},
     "output_type": "execute_result"
    }
   ],
   "source": [
    "df4.describe()"
   ]
  },
  {
   "cell_type": "markdown",
   "id": "4be7c42d",
   "metadata": {},
   "source": [
    "## Model Development"
   ]
  },
  {
   "cell_type": "code",
   "execution_count": 33,
   "id": "c53bdb7f",
   "metadata": {},
   "outputs": [
    {
     "data": {
      "text/plain": [
       "136335"
      ]
     },
     "execution_count": 33,
     "metadata": {},
     "output_type": "execute_result"
    }
   ],
   "source": [
    "len(df4)"
   ]
  },
  {
   "cell_type": "code",
   "execution_count": 34,
   "id": "a3202afd",
   "metadata": {
    "scrolled": true
   },
   "outputs": [
    {
     "data": {
      "text/html": [
       "<div>\n",
       "<style scoped>\n",
       "    .dataframe tbody tr th:only-of-type {\n",
       "        vertical-align: middle;\n",
       "    }\n",
       "\n",
       "    .dataframe tbody tr th {\n",
       "        vertical-align: top;\n",
       "    }\n",
       "\n",
       "    .dataframe thead th {\n",
       "        text-align: right;\n",
       "    }\n",
       "</style>\n",
       "<table border=\"1\" class=\"dataframe\">\n",
       "  <thead>\n",
       "    <tr style=\"text-align: right;\">\n",
       "      <th></th>\n",
       "      <th>part</th>\n",
       "      <th>code</th>\n",
       "      <th>model</th>\n",
       "      <th>petrol</th>\n",
       "      <th>section</th>\n",
       "      <th>odometer</th>\n",
       "      <th>plant</th>\n",
       "      <th>usage</th>\n",
       "      <th>target</th>\n",
       "      <th>faultmonth</th>\n",
       "    </tr>\n",
       "  </thead>\n",
       "  <tbody>\n",
       "    <tr>\n",
       "      <th>0</th>\n",
       "      <td>6</td>\n",
       "      <td>4</td>\n",
       "      <td>8</td>\n",
       "      <td>0</td>\n",
       "      <td>8</td>\n",
       "      <td>35251</td>\n",
       "      <td>1</td>\n",
       "      <td>25</td>\n",
       "      <td>0</td>\n",
       "      <td>2018-04</td>\n",
       "    </tr>\n",
       "    <tr>\n",
       "      <th>1</th>\n",
       "      <td>6</td>\n",
       "      <td>1</td>\n",
       "      <td>1</td>\n",
       "      <td>1</td>\n",
       "      <td>8</td>\n",
       "      <td>14491</td>\n",
       "      <td>0</td>\n",
       "      <td>13</td>\n",
       "      <td>0</td>\n",
       "      <td>2018-04</td>\n",
       "    </tr>\n",
       "    <tr>\n",
       "      <th>2</th>\n",
       "      <td>18</td>\n",
       "      <td>4</td>\n",
       "      <td>0</td>\n",
       "      <td>1</td>\n",
       "      <td>7</td>\n",
       "      <td>20044</td>\n",
       "      <td>0</td>\n",
       "      <td>17</td>\n",
       "      <td>0</td>\n",
       "      <td>2018-08</td>\n",
       "    </tr>\n",
       "    <tr>\n",
       "      <th>3</th>\n",
       "      <td>21</td>\n",
       "      <td>4</td>\n",
       "      <td>5</td>\n",
       "      <td>0</td>\n",
       "      <td>4</td>\n",
       "      <td>4553</td>\n",
       "      <td>5</td>\n",
       "      <td>2</td>\n",
       "      <td>1</td>\n",
       "      <td>2018-08</td>\n",
       "    </tr>\n",
       "    <tr>\n",
       "      <th>4</th>\n",
       "      <td>3</td>\n",
       "      <td>4</td>\n",
       "      <td>12</td>\n",
       "      <td>0</td>\n",
       "      <td>7</td>\n",
       "      <td>23675</td>\n",
       "      <td>3</td>\n",
       "      <td>13</td>\n",
       "      <td>0</td>\n",
       "      <td>2018-08</td>\n",
       "    </tr>\n",
       "  </tbody>\n",
       "</table>\n",
       "</div>"
      ],
      "text/plain": [
       "   part  code  model  petrol  section  odometer  plant  usage target  \\\n",
       "0     6     4      8       0        8     35251      1     25      0   \n",
       "1     6     1      1       1        8     14491      0     13      0   \n",
       "2    18     4      0       1        7     20044      0     17      0   \n",
       "3    21     4      5       0        4      4553      5      2      1   \n",
       "4     3     4     12       0        7     23675      3     13      0   \n",
       "\n",
       "  faultmonth  \n",
       "0    2018-04  \n",
       "1    2018-04  \n",
       "2    2018-08  \n",
       "3    2018-08  \n",
       "4    2018-08  "
      ]
     },
     "execution_count": 34,
     "metadata": {},
     "output_type": "execute_result"
    }
   ],
   "source": [
    "df4.head()"
   ]
  },
  {
   "cell_type": "markdown",
   "id": "7c346844",
   "metadata": {},
   "source": [
    "#### Splitting data into main and validation set"
   ]
  },
  {
   "cell_type": "code",
   "execution_count": 35,
   "id": "8e7be6d9",
   "metadata": {},
   "outputs": [],
   "source": [
    "df = df4.iloc[:100000,:]\n",
    "df_val = df4.iloc[100000:,:]"
   ]
  },
  {
   "cell_type": "markdown",
   "id": "7f45e830",
   "metadata": {},
   "source": [
    "#### Creating input and target dataset for validation set"
   ]
  },
  {
   "cell_type": "code",
   "execution_count": 36,
   "id": "1bf16ad8",
   "metadata": {},
   "outputs": [],
   "source": [
    "X_val = df_val.drop(['faultmonth', 'target', 'part', 'petrol' ,'usage', 'odometer'], axis=1)\n",
    "y_val = df_val['part']"
   ]
  },
  {
   "cell_type": "markdown",
   "id": "c9669d70",
   "metadata": {},
   "source": [
    "#### Creating different dataframe for 3M, 6M, and 12M analysis"
   ]
  },
  {
   "cell_type": "code",
   "execution_count": 37,
   "id": "81e39aae",
   "metadata": {},
   "outputs": [],
   "source": [
    "df_3M = df[df['target'] == '1']\n",
    "df_6M = df[df['target'] == '2']\n",
    "df_12M = df[df['target'] == '3']"
   ]
  },
  {
   "cell_type": "markdown",
   "id": "70fea005",
   "metadata": {},
   "source": [
    "#### Creating an input and output dataset for whole dataset (including all months)"
   ]
  },
  {
   "cell_type": "code",
   "execution_count": 38,
   "id": "c397b76e",
   "metadata": {
    "scrolled": true
   },
   "outputs": [
    {
     "data": {
      "text/html": [
       "<div>\n",
       "<style scoped>\n",
       "    .dataframe tbody tr th:only-of-type {\n",
       "        vertical-align: middle;\n",
       "    }\n",
       "\n",
       "    .dataframe tbody tr th {\n",
       "        vertical-align: top;\n",
       "    }\n",
       "\n",
       "    .dataframe thead th {\n",
       "        text-align: right;\n",
       "    }\n",
       "</style>\n",
       "<table border=\"1\" class=\"dataframe\">\n",
       "  <thead>\n",
       "    <tr style=\"text-align: right;\">\n",
       "      <th></th>\n",
       "      <th>part</th>\n",
       "      <th>code</th>\n",
       "      <th>model</th>\n",
       "      <th>petrol</th>\n",
       "      <th>section</th>\n",
       "      <th>odometer</th>\n",
       "      <th>plant</th>\n",
       "      <th>usage</th>\n",
       "      <th>target</th>\n",
       "      <th>faultmonth</th>\n",
       "    </tr>\n",
       "  </thead>\n",
       "  <tbody>\n",
       "    <tr>\n",
       "      <th>85467</th>\n",
       "      <td>20</td>\n",
       "      <td>4</td>\n",
       "      <td>3</td>\n",
       "      <td>1</td>\n",
       "      <td>3</td>\n",
       "      <td>3817</td>\n",
       "      <td>3</td>\n",
       "      <td>7</td>\n",
       "      <td>3</td>\n",
       "      <td>2021-02</td>\n",
       "    </tr>\n",
       "    <tr>\n",
       "      <th>7119</th>\n",
       "      <td>11</td>\n",
       "      <td>4</td>\n",
       "      <td>14</td>\n",
       "      <td>1</td>\n",
       "      <td>5</td>\n",
       "      <td>16302</td>\n",
       "      <td>0</td>\n",
       "      <td>20</td>\n",
       "      <td>0</td>\n",
       "      <td>2019-12</td>\n",
       "    </tr>\n",
       "    <tr>\n",
       "      <th>66206</th>\n",
       "      <td>19</td>\n",
       "      <td>4</td>\n",
       "      <td>4</td>\n",
       "      <td>1</td>\n",
       "      <td>3</td>\n",
       "      <td>5463</td>\n",
       "      <td>2</td>\n",
       "      <td>8</td>\n",
       "      <td>3</td>\n",
       "      <td>2020-11</td>\n",
       "    </tr>\n",
       "    <tr>\n",
       "      <th>31298</th>\n",
       "      <td>5</td>\n",
       "      <td>4</td>\n",
       "      <td>5</td>\n",
       "      <td>0</td>\n",
       "      <td>8</td>\n",
       "      <td>14836</td>\n",
       "      <td>6</td>\n",
       "      <td>10</td>\n",
       "      <td>3</td>\n",
       "      <td>2020-03</td>\n",
       "    </tr>\n",
       "    <tr>\n",
       "      <th>69052</th>\n",
       "      <td>1</td>\n",
       "      <td>4</td>\n",
       "      <td>4</td>\n",
       "      <td>0</td>\n",
       "      <td>0</td>\n",
       "      <td>21168</td>\n",
       "      <td>2</td>\n",
       "      <td>14</td>\n",
       "      <td>0</td>\n",
       "      <td>2020-11</td>\n",
       "    </tr>\n",
       "  </tbody>\n",
       "</table>\n",
       "</div>"
      ],
      "text/plain": [
       "       part  code  model  petrol  section  odometer  plant  usage target  \\\n",
       "85467    20     4      3       1        3      3817      3      7      3   \n",
       "7119     11     4     14       1        5     16302      0     20      0   \n",
       "66206    19     4      4       1        3      5463      2      8      3   \n",
       "31298     5     4      5       0        8     14836      6     10      3   \n",
       "69052     1     4      4       0        0     21168      2     14      0   \n",
       "\n",
       "      faultmonth  \n",
       "85467    2021-02  \n",
       "7119     2019-12  \n",
       "66206    2020-11  \n",
       "31298    2020-03  \n",
       "69052    2020-11  "
      ]
     },
     "execution_count": 38,
     "metadata": {},
     "output_type": "execute_result"
    }
   ],
   "source": [
    "df.sample(5)"
   ]
  },
  {
   "cell_type": "markdown",
   "id": "341b3f8a",
   "metadata": {},
   "source": [
    "I did not understand the problem statement completely. Intially I was considering \"faultmonths\" my target variable and I prepared my data keeping that in mind. Later I thought that \"part\" should be my target variable so I considered \"part\" as target variable just for the sake of showing my approach. I still need the clarity about what should be the target variable."
   ]
  },
  {
   "cell_type": "code",
   "execution_count": 38,
   "id": "a7b06ace",
   "metadata": {},
   "outputs": [],
   "source": [
    "X = df_val.drop(['faultmonth', 'target', 'part', 'petrol' ,'usage', 'odometer'], axis=1)\n",
    "y = df_val['part']"
   ]
  },
  {
   "cell_type": "markdown",
   "id": "35188f8d",
   "metadata": {},
   "source": [
    "I dropped usage and odometer because they do not show signification contribution in my model so after trial and error I removed these variables"
   ]
  },
  {
   "cell_type": "markdown",
   "id": "48d131f5",
   "metadata": {},
   "source": [
    "#### Splitting the dataset into training and testing"
   ]
  },
  {
   "cell_type": "code",
   "execution_count": 39,
   "id": "150bfcc8",
   "metadata": {},
   "outputs": [],
   "source": [
    "from sklearn.model_selection import train_test_split\n",
    "X_train, X_test, y_train, y_test = train_test_split(X,y,test_size=0.3, random_state=1)"
   ]
  },
  {
   "cell_type": "markdown",
   "id": "3c910552",
   "metadata": {},
   "source": [
    "#### Calculating model accuracy based on model score (Ussed RandomForest after comapring with other models)"
   ]
  },
  {
   "cell_type": "code",
   "execution_count": 40,
   "id": "503d8277",
   "metadata": {},
   "outputs": [
    {
     "data": {
      "text/plain": [
       "0.7489221172369508"
      ]
     },
     "execution_count": 40,
     "metadata": {},
     "output_type": "execute_result"
    }
   ],
   "source": [
    "from sklearn.ensemble import RandomForestClassifier\n",
    "rf = RandomForestClassifier()\n",
    "rf.fit(X_train,y_train)\n",
    "rf.score(X_test,y_test)"
   ]
  },
  {
   "cell_type": "markdown",
   "id": "a693b430",
   "metadata": {},
   "source": [
    "#### Determing the feature importance using mutual information. I have used all the columns initaially and chose the important ones"
   ]
  },
  {
   "cell_type": "code",
   "execution_count": 44,
   "id": "74b12b66",
   "metadata": {},
   "outputs": [
    {
     "data": {
      "text/plain": [
       "array([0.38056929, 0.76421533, 1.78420926, 0.42702759])"
      ]
     },
     "execution_count": 44,
     "metadata": {},
     "output_type": "execute_result"
    }
   ],
   "source": [
    "from sklearn.feature_selection import mutual_info_classif\n",
    "\n",
    "mutual_info = mutual_info_classif(X_train, y_train)\n",
    "mutual_info"
   ]
  },
  {
   "cell_type": "markdown",
   "id": "18a63d96",
   "metadata": {},
   "source": [
    "#### Using validation dataset to check wheter my model is robust or not"
   ]
  },
  {
   "cell_type": "code",
   "execution_count": 42,
   "id": "11f21dce",
   "metadata": {},
   "outputs": [
    {
     "data": {
      "text/plain": [
       "0.7519746800605477"
      ]
     },
     "execution_count": 42,
     "metadata": {},
     "output_type": "execute_result"
    }
   ],
   "source": [
    "rf.score(X_val,y_val)"
   ]
  },
  {
   "cell_type": "markdown",
   "id": "84594170",
   "metadata": {},
   "source": [
    "### Plotting 3M trend"
   ]
  },
  {
   "cell_type": "code",
   "execution_count": 45,
   "id": "88e7008f",
   "metadata": {
    "scrolled": true
   },
   "outputs": [
    {
     "data": {
      "image/png": "[encoded data removed]",
      "text/plain": [
       "<Figure size 1224x432 with 1 Axes>"
      ]
     },
     "metadata": {
      "needs_background": "light"
     },
     "output_type": "display_data"
    }
   ],
   "source": [
    "\n",
    "plt.figure(figsize=(17,6))\n",
    "\n",
    "graph = sns.countplot(x ='faultmonth', data = df_3M)\n",
    "graph.bar_label(graph.containers[0])\n",
    "\n",
    "plt.xticks(rotation=90, horizontalalignment=\"center\")\n",
    "plt.title(\"3 Month Wise Trend\")\n",
    "plt.xlabel(\"Timeline\")\n",
    "\n",
    "plt.ylabel(\"Count\")\n",
    "plt.show()"
   ]
  },
  {
   "cell_type": "markdown",
   "id": "4bbf7a9a",
   "metadata": {},
   "source": [
    "### Plotting 6M trend"
   ]
  },
  {
   "cell_type": "code",
   "execution_count": 42,
   "id": "71f437f3",
   "metadata": {
    "scrolled": true
   },
   "outputs": [
    {
     "data": {
      "image/png": "[encoded data removed]",
      "text/plain": [
       "<Figure size 1224x432 with 1 Axes>"
      ]
     },
     "metadata": {
      "needs_background": "light"
     },
     "output_type": "display_data"
    }
   ],
   "source": [
    "\n",
    "plt.figure(figsize=(17,6))\n",
    "\n",
    "graph = sns.countplot(x ='faultmonth', data = df_6M)\n",
    "graph.bar_label(graph.containers[0])\n",
    "\n",
    "plt.xticks(rotation=90, horizontalalignment=\"center\")\n",
    "plt.title(\"6 Month Wise Trend\")\n",
    "plt.xlabel(\"Timeline\")\n",
    "\n",
    "plt.ylabel(\"Count\")\n",
    "plt.show()"
   ]
  },
  {
   "cell_type": "markdown",
   "id": "57b2dc1e",
   "metadata": {},
   "source": [
    "### Plotting 12M trend"
   ]
  },
  {
   "cell_type": "code",
   "execution_count": 43,
   "id": "52f92b55",
   "metadata": {
    "scrolled": true
   },
   "outputs": [
    {
     "data": {
      "image/png": "[encoded data removed]",
      "text/plain": [
       "<Figure size 1224x432 with 1 Axes>"
      ]
     },
     "metadata": {
      "needs_background": "light"
     },
     "output_type": "display_data"
    }
   ],
   "source": [
    "plt.figure(figsize=(17,6))\n",
    "\n",
    "graph = sns.countplot(x ='faultmonth', data = df_12M)\n",
    "graph.bar_label(graph.containers[0])\n",
    "\n",
    "plt.xticks(rotation=90, horizontalalignment=\"center\")\n",
    "plt.title(\"12 Month Wise Trend\")\n",
    "plt.xlabel(\"Timeline\")\n",
    "\n",
    "plt.ylabel(\"Count\")\n",
    "plt.show()"
   ]
  },
  {
   "cell_type": "markdown",
   "id": "e4df8b63",
   "metadata": {},
   "source": [
    "## What I have missed"
   ]
  },
  {
   "cell_type": "markdown",
   "id": "8c2c82ba",
   "metadata": {},
   "source": [
    "#### Did not do normalisation"
   ]
  },
  {
   "cell_type": "code",
   "execution_count": null,
   "id": "9af9c1b8",
   "metadata": {},
   "outputs": [],
   "source": [
    "# Extra\n",
    "from sklearn import preprocessing\n",
    "scaler = preprocessing.MinMaxScaler()\n",
    "df[['odometer','usage']] = scaler.fit_transform(df[['odometer','usage']])\n",
    "df_val[['odometer','usage']] = scaler.fit_transform(df_val[['odometer','usage']])"
   ]
  },
  {
   "cell_type": "markdown",
   "id": "3c0bfd62",
   "metadata": {},
   "source": [
    "#### Did not run Chi square test for feature selection"
   ]
  },
  {
   "cell_type": "code",
   "execution_count": 46,
   "id": "12f8b46e",
   "metadata": {},
   "outputs": [
    {
     "data": {
      "text/plain": [
       "<AxesSubplot:>"
      ]
     },
     "execution_count": 46,
     "metadata": {},
     "output_type": "execute_result"
    },
    {
     "data": {
      "image/png": "[encoded data removed]",
      "text/plain": [
       "<Figure size 432x288 with 1 Axes>"
      ]
     },
     "metadata": {
      "needs_background": "light"
     },
     "output_type": "display_data"
    }
   ],
   "source": [
    "df_x = df4.drop(['faultmonth','usage', 'odometer', 'part'], axis=1)\n",
    "df_y = df4['part']\n",
    "from sklearn.feature_selection import chi2\n",
    "chi_score = chi2(df_x,df_y)\n",
    "chi_val = pd.Series(chi_score[0], index = df_x.columns)\n",
    "chi_val.sort_values(ascending=False, inplace=True)\n",
    "chi_val.plot(kind='bar')"
   ]
  },
  {
   "cell_type": "code",
   "execution_count": 47,
   "id": "67d3df41",
   "metadata": {},
   "outputs": [
    {
     "data": {
      "text/plain": [
       "<AxesSubplot:>"
      ]
     },
     "execution_count": 47,
     "metadata": {},
     "output_type": "execute_result"
    },
    {
     "data": {
      "image/png": "[encoded data removed]",
      "text/plain": [
       "<Figure size 432x288 with 1 Axes>"
      ]
     },
     "metadata": {
      "needs_background": "light"
     },
     "output_type": "display_data"
    }
   ],
   "source": [
    "df_3M = df4[df4['target'] == '1']\n",
    "df_x3 = df_3M.drop(['faultmonth','usage', 'odometer', 'part'], axis=1)\n",
    "df_y3 = df_3M['part']\n",
    "\n",
    "from sklearn.feature_selection import chi2\n",
    "chi_score = chi2(df_x3,df_y3)\n",
    "chi_val = pd.Series(chi_score[0], index = df_x3.columns)\n",
    "chi_val.sort_values(ascending=False, inplace=True)\n",
    "chi_val.plot(kind='bar')"
   ]
  },
  {
   "cell_type": "code",
   "execution_count": 48,
   "id": "d00f0e08",
   "metadata": {},
   "outputs": [
    {
     "data": {
      "text/plain": [
       "<AxesSubplot:>"
      ]
     },
     "execution_count": 48,
     "metadata": {},
     "output_type": "execute_result"
    },
    {
     "data": {
      "image/png": "[encoded data removed]",
      "text/plain": [
       "<Figure size 432x288 with 1 Axes>"
      ]
     },
     "metadata": {
      "needs_background": "light"
     },
     "output_type": "display_data"
    }
   ],
   "source": [
    "df_6M = df4[df4['target'] == '2']\n",
    "df_x6 = df_6M.drop(['faultmonth','usage', 'odometer', 'part'], axis=1)\n",
    "df_y6 = df_6M['part']\n",
    "\n",
    "from sklearn.feature_selection import chi2\n",
    "chi_score = chi2(df_x6,df_y6)\n",
    "chi_val = pd.Series(chi_score[0], index = df_x6.columns)\n",
    "chi_val.sort_values(ascending=False, inplace=True)\n",
    "chi_val.plot(kind='bar')"
   ]
  },
  {
   "cell_type": "code",
   "execution_count": 49,
   "id": "972a4a6d",
   "metadata": {
    "scrolled": true
   },
   "outputs": [
    {
     "data": {
      "text/plain": [
       "<AxesSubplot:>"
      ]
     },
     "execution_count": 49,
     "metadata": {},
     "output_type": "execute_result"
    },
    {
     "data": {
      "image/png": "[encoded data removed]",
      "text/plain": [
       "<Figure size 432x288 with 1 Axes>"
      ]
     },
     "metadata": {
      "needs_background": "light"
     },
     "output_type": "display_data"
    }
   ],
   "source": [
    "df_12M = df4[df4['target'] == '3']\n",
    "df_x12 = df_12M.drop(['faultmonth','usage', 'odometer', 'part'], axis=1)\n",
    "df_y12 = df_12M['part']\n",
    "\n",
    "from sklearn.feature_selection import chi2\n",
    "chi_score = chi2(df_x12,df_y12)\n",
    "chi_val = pd.Series(chi_score[0], index = df_x12.columns)\n",
    "chi_val.sort_values(ascending=False, inplace=True)\n",
    "chi_val.plot(kind='bar')"
   ]
  },
  {
   "cell_type": "markdown",
   "id": "18378ef3",
   "metadata": {},
   "source": [
    "### Model Evaluation (classification report)"
   ]
  },
  {
   "cell_type": "code",
   "execution_count": 61,
   "id": "d8378bb5",
   "metadata": {},
   "outputs": [
    {
     "data": {
      "text/plain": [
       "Text(69.0, 0.5, 'Truth')"
      ]
     },
     "execution_count": 61,
     "metadata": {},
     "output_type": "execute_result"
    },
    {
     "data": {
      "image/png": "[encoded data removed]",
      "text/plain": [
       "<Figure size 720x576 with 2 Axes>"
      ]
     },
     "metadata": {
      "needs_background": "light"
     },
     "output_type": "display_data"
    }
   ],
   "source": [
    "from sklearn.metrics import confusion_matrix\n",
    "y_pred = rf.predict(X_test)\n",
    "cm = confusion_matrix(y_test,y_pred)\n",
    "\n",
    "plt.figure(figsize=(10,8))\n",
    "sns.heatmap(cm,annot=True)\n",
    "plt.xlabel('Predicted')\n",
    "plt.ylabel('Truth')"
   ]
  },
  {
   "cell_type": "code",
   "execution_count": 59,
   "id": "5f3200c3",
   "metadata": {},
   "outputs": [
    {
     "name": "stdout",
     "output_type": "stream",
     "text": [
      "              precision    recall  f1-score   support\n",
      "\n",
      "           0       0.73      0.84      0.78      1262\n",
      "           1       0.81      0.95      0.87       533\n",
      "           2       0.66      0.72      0.69       392\n",
      "           3       0.64      0.16      0.26       282\n",
      "           4       0.86      0.95      0.90       380\n",
      "           5       0.55      0.92      0.69       119\n",
      "           6       0.30      0.12      0.17       145\n",
      "           7       0.50      0.25      0.33        81\n",
      "           8       0.69      0.56      0.62       636\n",
      "           9       0.51      0.66      0.57       437\n",
      "          10       0.73      0.76      0.75       594\n",
      "          11       0.92      0.91      0.91      1852\n",
      "          12       0.51      0.63      0.56       199\n",
      "          13       0.84      0.65      0.74       263\n",
      "          14       0.89      0.63      0.74       323\n",
      "          15       0.43      0.07      0.12       130\n",
      "          16       0.54      0.48      0.51       165\n",
      "          17       0.67      0.87      0.76       222\n",
      "          18       0.37      0.44      0.40       537\n",
      "          19       0.58      0.22      0.32       394\n",
      "          20       0.90      0.94      0.92       967\n",
      "          21       1.00      1.00      1.00       173\n",
      "          22       0.64      0.96      0.77       312\n",
      "          23       1.00      1.00      1.00       410\n",
      "          24       0.94      0.99      0.96        93\n",
      "\n",
      "    accuracy                           0.75     10901\n",
      "   macro avg       0.69      0.67      0.65     10901\n",
      "weighted avg       0.75      0.75      0.73     10901\n",
      "\n"
     ]
    }
   ],
   "source": [
    "from sklearn.metrics import classification_report\n",
    "print(classification_report(y_test, y_pred))"
   ]
  },
  {
   "cell_type": "code",
   "execution_count": null,
   "id": "275e087a",
   "metadata": {},
   "outputs": [],
   "source": []
  }
 ],
 "metadata": {
  "kernelspec": {
   "display_name": "Python 3 (ipykernel)",
   "language": "python",
   "name": "python3"
  },
  "language_info": {
   "codemirror_mode": {
    "name": "ipython",
    "version": 3
   },
   "file_extension": ".py",
   "mimetype": "text/x-python",
   "name": "python",
   "nbconvert_exporter": "python",
   "pygments_lexer": "ipython3",
   "version": "3.10.4"
  }
 },
 "nbformat": 4,
 "nbformat_minor": 5
}
