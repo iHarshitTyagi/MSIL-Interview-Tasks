{
 "cells": [
  {
   "cell_type": "code",
   "execution_count": 1,
   "id": "5753ab6d",
   "metadata": {},
   "outputs": [],
   "source": [
    "# Import all the necessary libraries\n",
    "import pandas as pd\n",
    "import os \n",
    "import glob\n",
    "import numpy as np\n",
    "from scipy import stats\n",
    "import datetime\n",
    "import seaborn as sns\n",
    "import matplotlib.pyplot as plt\n",
    "%matplotlib inline"
   ]
  },
  {
   "cell_type": "code",
   "execution_count": 2,
   "id": "45290771",
   "metadata": {},
   "outputs": [],
   "source": [
    "import warnings\n",
    "warnings.filterwarnings('ignore')"
   ]
  },
  {
   "cell_type": "code",
   "execution_count": 3,
   "id": "6964f81f",
   "metadata": {},
   "outputs": [
    {
     "data": {
      "text/plain": [
       "['Test 4.csv', 'Test 5.csv', 'Test 2.csv', 'Test 3.csv', 'Test 1.csv']"
      ]
     },
     "execution_count": 3,
     "metadata": {},
     "output_type": "execute_result"
    }
   ],
   "source": [
    "# Read all csv files in directory\n",
    "csv_files = glob.glob('*.{}'.format('csv'))\n",
    "csv_files"
   ]
  },
  {
   "cell_type": "code",
   "execution_count": 4,
   "id": "9cba2a92",
   "metadata": {},
   "outputs": [],
   "source": [
    "# Create a dataframe by combining all 5 csv files \n",
    "df1 = pd.concat([pd.read_csv(f) for f in csv_files], ignore_index=True)"
   ]
  },
  {
   "cell_type": "code",
   "execution_count": 5,
   "id": "68e43fd4",
   "metadata": {},
   "outputs": [],
   "source": [
    "# AS null values are negligiable in count so dropping all the null values\n",
    "df1.dropna(inplace=True)"
   ]
  },
  {
   "cell_type": "code",
   "execution_count": 6,
   "id": "ff99c2e4",
   "metadata": {},
   "outputs": [],
   "source": [
    "# Converting date columns into Pandas DateTime format\n",
    "date_cols = df1.columns[10:14]\n",
    "df1[date_cols] = df1[date_cols].apply(pd.to_datetime, errors='coerce')"
   ]
  },
  {
   "cell_type": "code",
   "execution_count": 7,
   "id": "e90e3407",
   "metadata": {},
   "outputs": [],
   "source": [
    "# Creating new colummn which show difference between Manufacturing Date and Repair date in months\n",
    "df1['FAULT_MONTHS'] = round((df1['REPAIR_DATE'] - df1['FCOK_DATE']) / np.timedelta64(1, 'M'))"
   ]
  },
  {
   "cell_type": "code",
   "execution_count": 8,
   "id": "a89598e8",
   "metadata": {},
   "outputs": [],
   "source": [
    "# Creating new colummn which shows Usage Month (difference between Registration Date and Repair date in months)\n",
    "df1['USAGE_MONTHS'] = round((df1['REPAIR_DATE'] - df1['REGD_DATE']) / np.timedelta64(1, 'M'))"
   ]
  },
  {
   "cell_type": "code",
   "execution_count": 12,
   "id": "a28097db",
   "metadata": {},
   "outputs": [],
   "source": [
    "# After EDA we found out 99% odometer reading are under 40000 so removing values greter than 40000\n",
    "df2 = df1[df1['ODOMETER'] <= 40000]"
   ]
  },
  {
   "cell_type": "code",
   "execution_count": 13,
   "id": "0b952512",
   "metadata": {},
   "outputs": [],
   "source": [
    "# After EDA we found out 99% fault month values are under 28 months so removing values greter than 28 months\n",
    "df3 = df2[df2['FAULT_MONTHS'] <= 28]"
   ]
  },
  {
   "cell_type": "code",
   "execution_count": 9,
   "id": "07a3383b",
   "metadata": {
    "scrolled": true
   },
   "outputs": [
    {
     "data": {
      "text/html": [
       "<div>\n",
       "<style scoped>\n",
       "    .dataframe tbody tr th:only-of-type {\n",
       "        vertical-align: middle;\n",
       "    }\n",
       "\n",
       "    .dataframe tbody tr th {\n",
       "        vertical-align: top;\n",
       "    }\n",
       "\n",
       "    .dataframe thead th {\n",
       "        text-align: right;\n",
       "    }\n",
       "</style>\n",
       "<table border=\"1\" class=\"dataframe\">\n",
       "  <thead>\n",
       "    <tr style=\"text-align: right;\">\n",
       "      <th></th>\n",
       "      <th>Part Name</th>\n",
       "      <th>Attribution code</th>\n",
       "      <th>Model</th>\n",
       "      <th>Fuel Type</th>\n",
       "      <th>Section</th>\n",
       "      <th>CITY</th>\n",
       "      <th>REGION</th>\n",
       "      <th>VEND_CODE</th>\n",
       "      <th>ODOMETER</th>\n",
       "      <th>PLANT_CODE</th>\n",
       "      <th>FCOK_DATE</th>\n",
       "      <th>REGD_DATE</th>\n",
       "      <th>REPAIR_DATE</th>\n",
       "      <th>PROCESSING_DATE</th>\n",
       "      <th>FAULT_MONTHS</th>\n",
       "      <th>USAGE_MONTHS</th>\n",
       "    </tr>\n",
       "  </thead>\n",
       "  <tbody>\n",
       "    <tr>\n",
       "      <th>0</th>\n",
       "      <td>Part 14</td>\n",
       "      <td>E</td>\n",
       "      <td>Model 14</td>\n",
       "      <td>DIESEL MODELS</td>\n",
       "      <td>Transmission</td>\n",
       "      <td>ALLAHABAD</td>\n",
       "      <td>N3</td>\n",
       "      <td>F031</td>\n",
       "      <td>27369</td>\n",
       "      <td>6</td>\n",
       "      <td>2019-01-18</td>\n",
       "      <td>2019-01-30</td>\n",
       "      <td>2021-01-15</td>\n",
       "      <td>2021-04-08</td>\n",
       "      <td>24.0</td>\n",
       "      <td>24.0</td>\n",
       "    </tr>\n",
       "    <tr>\n",
       "      <th>1</th>\n",
       "      <td>Part 14</td>\n",
       "      <td>E</td>\n",
       "      <td>Model 15</td>\n",
       "      <td>DIESEL MODELS</td>\n",
       "      <td>Transmission</td>\n",
       "      <td>NAWANSHAHR</td>\n",
       "      <td>N2</td>\n",
       "      <td>F031</td>\n",
       "      <td>16182</td>\n",
       "      <td>B</td>\n",
       "      <td>2019-10-09</td>\n",
       "      <td>2019-10-30</td>\n",
       "      <td>2021-03-19</td>\n",
       "      <td>2021-04-07</td>\n",
       "      <td>17.0</td>\n",
       "      <td>17.0</td>\n",
       "    </tr>\n",
       "    <tr>\n",
       "      <th>2</th>\n",
       "      <td>Part 14</td>\n",
       "      <td>E</td>\n",
       "      <td>Model 15</td>\n",
       "      <td>DIESEL MODELS</td>\n",
       "      <td>Transmission</td>\n",
       "      <td>NASIK</td>\n",
       "      <td>W2</td>\n",
       "      <td>F031</td>\n",
       "      <td>13533</td>\n",
       "      <td>B</td>\n",
       "      <td>2019-06-05</td>\n",
       "      <td>2019-07-31</td>\n",
       "      <td>2021-03-01</td>\n",
       "      <td>2021-04-07</td>\n",
       "      <td>21.0</td>\n",
       "      <td>19.0</td>\n",
       "    </tr>\n",
       "    <tr>\n",
       "      <th>3</th>\n",
       "      <td>Part 14</td>\n",
       "      <td>E</td>\n",
       "      <td>Model 14</td>\n",
       "      <td>DIESEL MODELS</td>\n",
       "      <td>Transmission</td>\n",
       "      <td>THANE</td>\n",
       "      <td>W1</td>\n",
       "      <td>F031</td>\n",
       "      <td>22401</td>\n",
       "      <td>6</td>\n",
       "      <td>2018-11-11</td>\n",
       "      <td>2019-01-31</td>\n",
       "      <td>2021-01-24</td>\n",
       "      <td>2021-04-18</td>\n",
       "      <td>26.0</td>\n",
       "      <td>24.0</td>\n",
       "    </tr>\n",
       "    <tr>\n",
       "      <th>4</th>\n",
       "      <td>Part 14</td>\n",
       "      <td>E</td>\n",
       "      <td>Model 13</td>\n",
       "      <td>DIESEL MODELS</td>\n",
       "      <td>Transmission</td>\n",
       "      <td>THANE</td>\n",
       "      <td>W1</td>\n",
       "      <td>F031</td>\n",
       "      <td>17892</td>\n",
       "      <td>6</td>\n",
       "      <td>2018-12-10</td>\n",
       "      <td>2019-06-29</td>\n",
       "      <td>2021-03-21</td>\n",
       "      <td>2021-04-18</td>\n",
       "      <td>27.0</td>\n",
       "      <td>21.0</td>\n",
       "    </tr>\n",
       "  </tbody>\n",
       "</table>\n",
       "</div>"
      ],
      "text/plain": [
       "  Part Name Attribution code     Model      Fuel Type       Section  \\\n",
       "0   Part 14                E  Model 14  DIESEL MODELS  Transmission   \n",
       "1   Part 14                E  Model 15  DIESEL MODELS  Transmission   \n",
       "2   Part 14                E  Model 15  DIESEL MODELS  Transmission   \n",
       "3   Part 14                E  Model 14  DIESEL MODELS  Transmission   \n",
       "4   Part 14                E  Model 13  DIESEL MODELS  Transmission   \n",
       "\n",
       "         CITY REGION VEND_CODE  ODOMETER PLANT_CODE  FCOK_DATE  REGD_DATE  \\\n",
       "0   ALLAHABAD     N3      F031     27369          6 2019-01-18 2019-01-30   \n",
       "1  NAWANSHAHR     N2      F031     16182          B 2019-10-09 2019-10-30   \n",
       "2       NASIK     W2      F031     13533          B 2019-06-05 2019-07-31   \n",
       "3       THANE     W1      F031     22401          6 2018-11-11 2019-01-31   \n",
       "4       THANE     W1      F031     17892          6 2018-12-10 2019-06-29   \n",
       "\n",
       "  REPAIR_DATE PROCESSING_DATE  FAULT_MONTHS  USAGE_MONTHS  \n",
       "0  2021-01-15      2021-04-08          24.0          24.0  \n",
       "1  2021-03-19      2021-04-07          17.0          17.0  \n",
       "2  2021-03-01      2021-04-07          21.0          19.0  \n",
       "3  2021-01-24      2021-04-18          26.0          24.0  \n",
       "4  2021-03-21      2021-04-18          27.0          21.0  "
      ]
     },
     "execution_count": 9,
     "metadata": {},
     "output_type": "execute_result"
    }
   ],
   "source": [
    "df1.head()"
   ]
  },
  {
   "cell_type": "code",
   "execution_count": 10,
   "id": "6bdbf5eb",
   "metadata": {},
   "outputs": [
    {
     "name": "stdout",
     "output_type": "stream",
     "text": [
      "<class 'pandas.core.frame.DataFrame'>\n",
      "Int64Index: 139689 entries, 0 to 140005\n",
      "Data columns (total 16 columns):\n",
      " #   Column            Non-Null Count   Dtype         \n",
      "---  ------            --------------   -----         \n",
      " 0   Part Name         139689 non-null  object        \n",
      " 1   Attribution code  139689 non-null  object        \n",
      " 2   Model             139689 non-null  object        \n",
      " 3   Fuel Type         139689 non-null  object        \n",
      " 4   Section           139689 non-null  object        \n",
      " 5   CITY              139689 non-null  object        \n",
      " 6   REGION            139689 non-null  object        \n",
      " 7   VEND_CODE         139689 non-null  object        \n",
      " 8   ODOMETER          139689 non-null  int64         \n",
      " 9   PLANT_CODE        139689 non-null  object        \n",
      " 10  FCOK_DATE         139689 non-null  datetime64[ns]\n",
      " 11  REGD_DATE         139689 non-null  datetime64[ns]\n",
      " 12  REPAIR_DATE       139689 non-null  datetime64[ns]\n",
      " 13  PROCESSING_DATE   139689 non-null  datetime64[ns]\n",
      " 14  FAULT_MONTHS      139689 non-null  float64       \n",
      " 15  USAGE_MONTHS      139689 non-null  float64       \n",
      "dtypes: datetime64[ns](4), float64(2), int64(1), object(9)\n",
      "memory usage: 18.1+ MB\n"
     ]
    }
   ],
   "source": [
    "df1.info()"
   ]
  },
  {
   "cell_type": "code",
   "execution_count": 11,
   "id": "f69ebfb0",
   "metadata": {},
   "outputs": [],
   "source": [
    "# Converting Processing date into month for plotting purpose\n",
    "df1['PROCESSING_MONTH'] = df1['PROCESSING_DATE'].dt.to_period('M')"
   ]
  },
  {
   "cell_type": "code",
   "execution_count": 12,
   "id": "011aae6f",
   "metadata": {},
   "outputs": [],
   "source": [
    "#Converting Manufacturing date into month for plotting purpose\n",
    "df1[\"FCOK_MONTH\"] = df1[\"FCOK_DATE\"].dt.to_period('M')"
   ]
  },
  {
   "cell_type": "code",
   "execution_count": 13,
   "id": "37417c95",
   "metadata": {},
   "outputs": [],
   "source": [
    "#Dropping columns which are not necessary for GUI development\n",
    "df = df1.drop(['Attribution code', 'Fuel Type', 'Section',\n",
    "       'CITY', 'REGION', 'VEND_CODE', 'PLANT_CODE','FCOK_DATE',\n",
    "       'REGD_DATE', 'REPAIR_DATE', 'PROCESSING_DATE'], axis = 1)"
   ]
  },
  {
   "cell_type": "code",
   "execution_count": 14,
   "id": "2bde13ba",
   "metadata": {
    "scrolled": true
   },
   "outputs": [
    {
     "data": {
      "text/html": [
       "<div>\n",
       "<style scoped>\n",
       "    .dataframe tbody tr th:only-of-type {\n",
       "        vertical-align: middle;\n",
       "    }\n",
       "\n",
       "    .dataframe tbody tr th {\n",
       "        vertical-align: top;\n",
       "    }\n",
       "\n",
       "    .dataframe thead th {\n",
       "        text-align: right;\n",
       "    }\n",
       "</style>\n",
       "<table border=\"1\" class=\"dataframe\">\n",
       "  <thead>\n",
       "    <tr style=\"text-align: right;\">\n",
       "      <th></th>\n",
       "      <th>Part Name</th>\n",
       "      <th>Model</th>\n",
       "      <th>ODOMETER</th>\n",
       "      <th>FAULT_MONTHS</th>\n",
       "      <th>USAGE_MONTHS</th>\n",
       "      <th>PROCESSING_MONTH</th>\n",
       "      <th>FCOK_MONTH</th>\n",
       "    </tr>\n",
       "  </thead>\n",
       "  <tbody>\n",
       "    <tr>\n",
       "      <th>0</th>\n",
       "      <td>Part 14</td>\n",
       "      <td>Model 14</td>\n",
       "      <td>27369</td>\n",
       "      <td>24.0</td>\n",
       "      <td>24.0</td>\n",
       "      <td>2021-04</td>\n",
       "      <td>2019-01</td>\n",
       "    </tr>\n",
       "    <tr>\n",
       "      <th>1</th>\n",
       "      <td>Part 14</td>\n",
       "      <td>Model 15</td>\n",
       "      <td>16182</td>\n",
       "      <td>17.0</td>\n",
       "      <td>17.0</td>\n",
       "      <td>2021-04</td>\n",
       "      <td>2019-10</td>\n",
       "    </tr>\n",
       "    <tr>\n",
       "      <th>2</th>\n",
       "      <td>Part 14</td>\n",
       "      <td>Model 15</td>\n",
       "      <td>13533</td>\n",
       "      <td>21.0</td>\n",
       "      <td>19.0</td>\n",
       "      <td>2021-04</td>\n",
       "      <td>2019-06</td>\n",
       "    </tr>\n",
       "    <tr>\n",
       "      <th>3</th>\n",
       "      <td>Part 14</td>\n",
       "      <td>Model 14</td>\n",
       "      <td>22401</td>\n",
       "      <td>26.0</td>\n",
       "      <td>24.0</td>\n",
       "      <td>2021-04</td>\n",
       "      <td>2018-11</td>\n",
       "    </tr>\n",
       "    <tr>\n",
       "      <th>4</th>\n",
       "      <td>Part 14</td>\n",
       "      <td>Model 13</td>\n",
       "      <td>17892</td>\n",
       "      <td>27.0</td>\n",
       "      <td>21.0</td>\n",
       "      <td>2021-04</td>\n",
       "      <td>2018-12</td>\n",
       "    </tr>\n",
       "  </tbody>\n",
       "</table>\n",
       "</div>"
      ],
      "text/plain": [
       "  Part Name     Model  ODOMETER  FAULT_MONTHS  USAGE_MONTHS PROCESSING_MONTH  \\\n",
       "0   Part 14  Model 14     27369          24.0          24.0          2021-04   \n",
       "1   Part 14  Model 15     16182          17.0          17.0          2021-04   \n",
       "2   Part 14  Model 15     13533          21.0          19.0          2021-04   \n",
       "3   Part 14  Model 14     22401          26.0          24.0          2021-04   \n",
       "4   Part 14  Model 13     17892          27.0          21.0          2021-04   \n",
       "\n",
       "  FCOK_MONTH  \n",
       "0    2019-01  \n",
       "1    2019-10  \n",
       "2    2019-06  \n",
       "3    2018-11  \n",
       "4    2018-12  "
      ]
     },
     "execution_count": 14,
     "metadata": {},
     "output_type": "execute_result"
    }
   ],
   "source": [
    "df.head()"
   ]
  },
  {
   "cell_type": "markdown",
   "id": "81322cd8",
   "metadata": {},
   "source": [
    "df.to_csv('data.csv', index=False)"
   ]
  },
  {
   "cell_type": "markdown",
   "id": "458a0762",
   "metadata": {},
   "source": [
    "sns.distplot(df['ODOMETER'], kde=True,hist= False, bins=50,\n",
    "             hist_kws=dict(edgecolor=\"k\", linewidth=2))\n",
    "plt.xlabel('Mileage')\n",
    "plt.ylabel('Frequency')\n",
    "plt.show()"
   ]
  },
  {
   "cell_type": "code",
   "execution_count": 43,
   "id": "cc21c0cf",
   "metadata": {},
   "outputs": [
    {
     "data": {
      "image/png": "[encoded data removed]",
      "text/plain": [
       "<Figure size 864x432 with 1 Axes>"
      ]
     },
     "metadata": {
      "needs_background": "light"
     },
     "output_type": "display_data"
    }
   ],
   "source": [
    "#Mileage wise History\n",
    "plt.figure(figsize=(12, 6))\n",
    "plt.hist(x = \"ODOMETER\", data = df[df['Part Name']=='Part 3'])\n",
    "plt.xlabel(\"Mileage\")\n",
    "plt.ylabel(\"Count\")\n",
    "plt.title(\"Mileage wise History\")\n",
    "plt.show()"
   ]
  },
  {
   "cell_type": "code",
   "execution_count": 44,
   "id": "86b073e8",
   "metadata": {
    "scrolled": true
   },
   "outputs": [
    {
     "data": {
      "image/png": "[encoded data removed]",
      "text/plain": [
       "<Figure size 864x432 with 1 Axes>"
      ]
     },
     "metadata": {
      "needs_background": "light"
     },
     "output_type": "display_data"
    }
   ],
   "source": [
    "#Mileage vs Usage Days Trend\n",
    "plt.figure(figsize=(12, 6))\n",
    "plt.scatter(x = \"ODOMETER\", y = \"USAGE_MONTHS\", data = df[df['Part Name']=='Part 6'])\n",
    "plt.xlabel(\"Mileage\")\n",
    "plt.ylabel(\"Usage in Months\")\n",
    "plt.title(\"Mileage vs Usage Days Trend\")\n",
    "plt.show()"
   ]
  },
  {
   "cell_type": "code",
   "execution_count": 45,
   "id": "68f66cf7",
   "metadata": {},
   "outputs": [
    {
     "data": {
      "image/png": "[encoded data removed]",
      "text/plain": [
       "<Figure size 864x432 with 1 Axes>"
      ]
     },
     "metadata": {
      "needs_background": "light"
     },
     "output_type": "display_data"
    }
   ],
   "source": [
    "# Model wise History\n",
    "df[df['Part Name']=='Part 2'].groupby(['Model']).size().plot.bar(x = 'Model',figsize=(12,6))\n",
    "#.groupby(['Model']).size().reset_index(name = 'count')\n",
    "plt.xlabel(\"Model\")\n",
    "plt.ylabel(\"Count\")\n",
    "plt.xticks(rotation=90, horizontalalignment=\"center\")\n",
    "plt.title(\"Model wise History\")\n",
    "plt.show()"
   ]
  },
  {
   "cell_type": "code",
   "execution_count": 46,
   "id": "25f75db4",
   "metadata": {},
   "outputs": [
    {
     "data": {
      "image/png": "[encoded data removed]",
      "text/plain": [
       "<Figure size 864x432 with 1 Axes>"
      ]
     },
     "metadata": {
      "needs_background": "light"
     },
     "output_type": "display_data"
    }
   ],
   "source": [
    "## Processing month wise trend\n",
    "df[df['Part Name']=='Part 11'].groupby(['PROCESSING_MONTH']).size().plot.bar(x = 'PROCESSING_MONTH',figsize=(12,6))\n",
    "plt.xticks(rotation=90, horizontalalignment=\"center\")\n",
    "plt.title(\"Processing Month Wise Trend\")\n",
    "plt.xlabel(\"Processing month and year\")\n",
    "plt.ylabel(\"count\")\n",
    "plt.show()"
   ]
  },
  {
   "cell_type": "code",
   "execution_count": null,
   "id": "6239f7e9",
   "metadata": {},
   "outputs": [],
   "source": [
    "plt.figure(figsize=(12, 6))\n",
    "plt.hist(x = \"ODOMETER\", data = df[df['Part Name']=='Part 3'])\n",
    "plt.xlabel(\"Mileage\")\n",
    "plt.ylabel(\"Count\")\n",
    "plt.title(\"Mileage wise History\")\n",
    "plt.show()"
   ]
  },
  {
   "cell_type": "code",
   "execution_count": 55,
   "id": "19cb663c",
   "metadata": {},
   "outputs": [
    {
     "data": {
      "image/png": "[encoded data removed]",
      "text/plain": [
       "<Figure size 432x288 with 1 Axes>"
      ]
     },
     "metadata": {
      "needs_background": "light"
     },
     "output_type": "display_data"
    }
   ],
   "source": [
    "sns.countplot(x ='PROCESSING_MONTH', data = df[df['Part Name'] == 'Part 11'])\n",
    "plt.xticks(rotation=90, horizontalalignment=\"center\")\n",
    "plt.title(\"Processing Month Wise Trend\")\n",
    "plt.xlabel(\"Processing month and year\")\n",
    "plt.ylabel(\"count\")\n",
    "plt.show()"
   ]
  }
 ],
 "metadata": {
  "kernelspec": {
   "display_name": "Python 3 (ipykernel)",
   "language": "python",
   "name": "python3"
  },
  "language_info": {
   "codemirror_mode": {
    "name": "ipython",
    "version": 3
   },
   "file_extension": ".py",
   "mimetype": "text/x-python",
   "name": "python",
   "nbconvert_exporter": "python",
   "pygments_lexer": "ipython3",
   "version": "3.10.4"
  }
 },
 "nbformat": 4,
 "nbformat_minor": 5
}
