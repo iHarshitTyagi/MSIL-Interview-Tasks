{
 "cells": [
  {
   "cell_type": "code",
   "execution_count": 1,
   "id": "45290771",
   "metadata": {},
   "outputs": [],
   "source": [
    "# Import all the necessary libraries\n",
    "import pandas as pd\n",
    "import os \n",
    "import glob\n",
    "import numpy as np\n",
    "from scipy import stats\n",
    "import datetime\n",
    "import seaborn as sns\n",
    "import matplotlib.pyplot as plt\n",
    "%matplotlib inline"
   ]
  },
  {
   "cell_type": "code",
   "execution_count": 2,
   "id": "baf30008",
   "metadata": {},
   "outputs": [],
   "source": [
    "import warnings\n",
    "warnings.filterwarnings('ignore')"
   ]
  },
  {
   "cell_type": "code",
   "execution_count": 3,
   "id": "6964f81f",
   "metadata": {},
   "outputs": [
    {
     "data": {
      "text/plain": [
       "['Test 4.csv', 'Test 5.csv', 'Test 2.csv', 'Test 3.csv', 'Test 1.csv']"
      ]
     },
     "execution_count": 3,
     "metadata": {},
     "output_type": "execute_result"
    }
   ],
   "source": [
    "# Read all csv files in directory\n",
    "csv_files = glob.glob('*.{}'.format('csv'))\n",
    "csv_files"
   ]
  },
  {
   "cell_type": "code",
   "execution_count": 4,
   "id": "9cba2a92",
   "metadata": {},
   "outputs": [],
   "source": [
    "# Create a dataframe by combining all 5 csv files \n",
    "df1 = pd.concat([pd.read_csv(f) for f in csv_files], ignore_index=True)"
   ]
  },
  {
   "cell_type": "code",
   "execution_count": 5,
   "id": "68e43fd4",
   "metadata": {},
   "outputs": [],
   "source": [
    "# AS null values are negligiable in count so dropping all the null values\n",
    "df1.dropna(inplace=True)"
   ]
  },
  {
   "cell_type": "code",
   "execution_count": 6,
   "id": "ff99c2e4",
   "metadata": {},
   "outputs": [],
   "source": [
    "# Converting date columns into Pandas DateTime format\n",
    "date_cols = df1.columns[10:14]\n",
    "df1[date_cols] = df1[date_cols].apply(pd.to_datetime, errors='coerce')"
   ]
  },
  {
   "cell_type": "code",
   "execution_count": 7,
   "id": "a89598e8",
   "metadata": {},
   "outputs": [],
   "source": [
    "# Creating new colummn which shows Usage Month (difference between Registration Date and Repair date in months)\n",
    "df1['USAGE_MONTHS'] = round((df1['REPAIR_DATE'] - df1['FCOK_DATE']) / np.timedelta64(1, 'M'))"
   ]
  },
  {
   "cell_type": "code",
   "execution_count": 8,
   "id": "3a467204",
   "metadata": {},
   "outputs": [
    {
     "data": {
      "text/plain": [
       "<AxesSubplot:>"
      ]
     },
     "execution_count": 8,
     "metadata": {},
     "output_type": "execute_result"
    },
    {
     "data": {
      "image/png": "[encoded data removed]",
      "text/plain": [
       "<Figure size 432x288 with 1 Axes>"
      ]
     },
     "metadata": {
      "needs_background": "light"
     },
     "output_type": "display_data"
    }
   ],
   "source": [
    "# Create a boxplot for odometer (outlier detection)\n",
    "df1.boxplot(column = ['ODOMETER'])"
   ]
  },
  {
   "cell_type": "code",
   "execution_count": 9,
   "id": "46430c7b",
   "metadata": {
    "scrolled": true
   },
   "outputs": [
    {
     "data": {
      "text/plain": [
       "ODOMETER        39800.0\n",
       "USAGE_MONTHS       27.0\n",
       "Name: 0.98, dtype: float64"
      ]
     },
     "execution_count": 9,
     "metadata": {},
     "output_type": "execute_result"
    }
   ],
   "source": [
    "# We did 98% quqntile analysis \n",
    "df1.quantile(0.98)"
   ]
  },
  {
   "cell_type": "code",
   "execution_count": 10,
   "id": "56781edc",
   "metadata": {},
   "outputs": [],
   "source": [
    "# After EDA we found out 98% odometer reading are under 40000 so removing values greter than 40000\n",
    "df2 = df1[df1['ODOMETER'] <= 40000]"
   ]
  },
  {
   "cell_type": "code",
   "execution_count": 11,
   "id": "bae903fc",
   "metadata": {
    "scrolled": true
   },
   "outputs": [
    {
     "data": {
      "text/plain": [
       "<AxesSubplot:>"
      ]
     },
     "execution_count": 11,
     "metadata": {},
     "output_type": "execute_result"
    },
    {
     "data": {
      "image/png": "[encoded data removed]",
      "text/plain": [
       "<Figure size 432x288 with 1 Axes>"
      ]
     },
     "metadata": {
      "needs_background": "light"
     },
     "output_type": "display_data"
    }
   ],
   "source": [
    "# Creating a boxplot for odometer (no outlier)\n",
    "df2.boxplot(column = ['ODOMETER'])"
   ]
  },
  {
   "cell_type": "code",
   "execution_count": 12,
   "id": "ff32f06b",
   "metadata": {
    "scrolled": false
   },
   "outputs": [
    {
     "data": {
      "text/plain": [
       "<AxesSubplot:>"
      ]
     },
     "execution_count": 12,
     "metadata": {},
     "output_type": "execute_result"
    },
    {
     "data": {
      "image/png": "[encoded data removed]",
      "text/plain": [
       "<Figure size 432x288 with 1 Axes>"
      ]
     },
     "metadata": {
      "needs_background": "light"
     },
     "output_type": "display_data"
    }
   ],
   "source": [
    "# Creating a boxplot for usage months (outlier detection)\n",
    "df2.boxplot(column = ['USAGE_MONTHS'])"
   ]
  },
  {
   "cell_type": "code",
   "execution_count": 13,
   "id": "9ea42eed",
   "metadata": {},
   "outputs": [],
   "source": [
    "# Removing extreme value in usage months\n",
    "df3 = df2[df2['USAGE_MONTHS'] <= 28]"
   ]
  },
  {
   "cell_type": "code",
   "execution_count": 14,
   "id": "1bc20e58",
   "metadata": {},
   "outputs": [
    {
     "data": {
      "text/plain": [
       "<AxesSubplot:>"
      ]
     },
     "execution_count": 14,
     "metadata": {},
     "output_type": "execute_result"
    },
    {
     "data": {
      "image/png": "[encoded data removed]",
      "text/plain": [
       "<Figure size 432x288 with 1 Axes>"
      ]
     },
     "metadata": {
      "needs_background": "light"
     },
     "output_type": "display_data"
    }
   ],
   "source": [
    "# Creating a boxplot for odometer (no outlier)\n",
    "df3.boxplot(column = ['USAGE_MONTHS'])"
   ]
  },
  {
   "cell_type": "code",
   "execution_count": 15,
   "id": "47605cb4",
   "metadata": {},
   "outputs": [],
   "source": [
    "# Converting float usage months values into integers\n",
    "df3[\"USAGE_MONTHS\"] = df3[\"USAGE_MONTHS\"].astype(int)"
   ]
  },
  {
   "cell_type": "code",
   "execution_count": 16,
   "id": "ee2a431a",
   "metadata": {},
   "outputs": [],
   "source": [
    "# Converting usage month into bins(categories) and storing this into new variable target\n",
    "df3['target'] = pd.cut(df2['USAGE_MONTHS'], bins=[0,3,6,12,29], \n",
    "                          labels=['1', '2', '3', '0'])"
   ]
  },
  {
   "cell_type": "code",
   "execution_count": 17,
   "id": "94b681bf",
   "metadata": {
    "scrolled": true
   },
   "outputs": [],
   "source": [
    "# Dropping null values\n",
    "df3.dropna(inplace = True)"
   ]
  },
  {
   "cell_type": "code",
   "execution_count": 18,
   "id": "df773839",
   "metadata": {},
   "outputs": [],
   "source": [
    "# Dropping unnecessary columns\n",
    "df4 = df3.drop(['CITY','VEND_CODE','FCOK_DATE','REGD_DATE', \n",
    "           'PROCESSING_DATE', 'REGION'], axis = 1)"
   ]
  },
  {
   "cell_type": "code",
   "execution_count": 19,
   "id": "4e6e9697",
   "metadata": {},
   "outputs": [],
   "source": [
    "# Mapping Fuel Type into 0 and 1\n",
    "df4['Fuel Type'] = df4['Fuel Type'].map({'DIESEL MODELS':0, 'PETROL MODELS':1})"
   ]
  },
  {
   "cell_type": "code",
   "execution_count": 20,
   "id": "8e14089d",
   "metadata": {},
   "outputs": [],
   "source": [
    "# Renaming column for ease\n",
    "df4.rename(columns = {'Fuel Type':'petrol','Part Name':'part', 'Model':'model',\n",
    "                       'Attribution code':'code','ODOMETER':'odometer','Section':'section',\n",
    "                      'PLANT_CODE':'plant','REPAIR_DATE':'faultdate','USAGE_MONTHS':'usage'}, inplace = True)"
   ]
  },
  {
   "cell_type": "code",
   "execution_count": 21,
   "id": "c565a0c6",
   "metadata": {},
   "outputs": [],
   "source": [
    "# Encoding all the categorical variavles into numerical\n",
    "from sklearn.preprocessing import LabelEncoder\n",
    "le_part = LabelEncoder()\n",
    "le_code = LabelEncoder()\n",
    "le_model = LabelEncoder()\n",
    "le_section = LabelEncoder()\n",
    "le_plant = LabelEncoder()\n",
    "\n",
    "df4['part'] = le_part.fit_transform(df4['part'])\n",
    "df4['code'] = le_code.fit_transform(df4['code'])\n",
    "df4['model'] = le_model.fit_transform(df4['model'])\n",
    "df4['section'] = le_section.fit_transform(df4['section'])\n",
    "df4['plant'] = le_plant.fit_transform(df4['plant'])"
   ]
  },
  {
   "cell_type": "code",
   "execution_count": 22,
   "id": "44f43aed",
   "metadata": {},
   "outputs": [],
   "source": [
    "# Creating an new feature faultmonth from faultdate for plotting purpose\n",
    "df4['faultmonth'] = df4['faultdate'].dt.to_period('M')"
   ]
  },
  {
   "cell_type": "code",
   "execution_count": 23,
   "id": "29f5dcfc",
   "metadata": {},
   "outputs": [],
   "source": [
    "# Sorting the Values by faultdate\n",
    "df4.sort_values(by='faultdate', inplace = True)"
   ]
  },
  {
   "cell_type": "code",
   "execution_count": 24,
   "id": "c410ca8a",
   "metadata": {},
   "outputs": [],
   "source": [
    "# Resetting Index\n",
    "df4.reset_index(inplace = True)\n",
    "df4.drop(['index','faultdate'], axis=1, inplace = True)"
   ]
  },
  {
   "cell_type": "code",
   "execution_count": 28,
   "id": "38a3d85a",
   "metadata": {},
   "outputs": [
    {
     "data": {
      "text/html": [
       "<div>\n",
       "<style scoped>\n",
       "    .dataframe tbody tr th:only-of-type {\n",
       "        vertical-align: middle;\n",
       "    }\n",
       "\n",
       "    .dataframe tbody tr th {\n",
       "        vertical-align: top;\n",
       "    }\n",
       "\n",
       "    .dataframe thead th {\n",
       "        text-align: right;\n",
       "    }\n",
       "</style>\n",
       "<table border=\"1\" class=\"dataframe\">\n",
       "  <thead>\n",
       "    <tr style=\"text-align: right;\">\n",
       "      <th></th>\n",
       "      <th>part</th>\n",
       "      <th>code</th>\n",
       "      <th>model</th>\n",
       "      <th>petrol</th>\n",
       "      <th>section</th>\n",
       "      <th>odometer</th>\n",
       "      <th>plant</th>\n",
       "      <th>usage</th>\n",
       "    </tr>\n",
       "  </thead>\n",
       "  <tbody>\n",
       "    <tr>\n",
       "      <th>count</th>\n",
       "      <td>136335.000000</td>\n",
       "      <td>136335.000000</td>\n",
       "      <td>136335.000000</td>\n",
       "      <td>136335.000000</td>\n",
       "      <td>136335.000000</td>\n",
       "      <td>136335.000000</td>\n",
       "      <td>136335.000000</td>\n",
       "      <td>136335.000000</td>\n",
       "    </tr>\n",
       "    <tr>\n",
       "      <th>mean</th>\n",
       "      <td>11.175656</td>\n",
       "      <td>3.283148</td>\n",
       "      <td>8.159152</td>\n",
       "      <td>0.793465</td>\n",
       "      <td>4.744475</td>\n",
       "      <td>15952.705798</td>\n",
       "      <td>2.577497</td>\n",
       "      <td>14.811787</td>\n",
       "    </tr>\n",
       "    <tr>\n",
       "      <th>std</th>\n",
       "      <td>8.160103</td>\n",
       "      <td>1.323785</td>\n",
       "      <td>5.889122</td>\n",
       "      <td>0.404821</td>\n",
       "      <td>2.419431</td>\n",
       "      <td>10508.969083</td>\n",
       "      <td>1.814414</td>\n",
       "      <td>6.547104</td>\n",
       "    </tr>\n",
       "    <tr>\n",
       "      <th>min</th>\n",
       "      <td>0.000000</td>\n",
       "      <td>0.000000</td>\n",
       "      <td>0.000000</td>\n",
       "      <td>0.000000</td>\n",
       "      <td>0.000000</td>\n",
       "      <td>0.000000</td>\n",
       "      <td>0.000000</td>\n",
       "      <td>1.000000</td>\n",
       "    </tr>\n",
       "    <tr>\n",
       "      <th>25%</th>\n",
       "      <td>3.000000</td>\n",
       "      <td>4.000000</td>\n",
       "      <td>4.000000</td>\n",
       "      <td>1.000000</td>\n",
       "      <td>3.000000</td>\n",
       "      <td>7046.000000</td>\n",
       "      <td>1.000000</td>\n",
       "      <td>10.000000</td>\n",
       "    </tr>\n",
       "    <tr>\n",
       "      <th>50%</th>\n",
       "      <td>11.000000</td>\n",
       "      <td>4.000000</td>\n",
       "      <td>6.000000</td>\n",
       "      <td>1.000000</td>\n",
       "      <td>5.000000</td>\n",
       "      <td>13955.000000</td>\n",
       "      <td>3.000000</td>\n",
       "      <td>15.000000</td>\n",
       "    </tr>\n",
       "    <tr>\n",
       "      <th>75%</th>\n",
       "      <td>19.000000</td>\n",
       "      <td>4.000000</td>\n",
       "      <td>13.000000</td>\n",
       "      <td>1.000000</td>\n",
       "      <td>7.000000</td>\n",
       "      <td>23177.000000</td>\n",
       "      <td>4.000000</td>\n",
       "      <td>20.000000</td>\n",
       "    </tr>\n",
       "    <tr>\n",
       "      <th>max</th>\n",
       "      <td>24.000000</td>\n",
       "      <td>4.000000</td>\n",
       "      <td>22.000000</td>\n",
       "      <td>1.000000</td>\n",
       "      <td>8.000000</td>\n",
       "      <td>40000.000000</td>\n",
       "      <td>7.000000</td>\n",
       "      <td>28.000000</td>\n",
       "    </tr>\n",
       "  </tbody>\n",
       "</table>\n",
       "</div>"
      ],
      "text/plain": [
       "                part           code          model         petrol  \\\n",
       "count  136335.000000  136335.000000  136335.000000  136335.000000   \n",
       "mean       11.175656       3.283148       8.159152       0.793465   \n",
       "std         8.160103       1.323785       5.889122       0.404821   \n",
       "min         0.000000       0.000000       0.000000       0.000000   \n",
       "25%         3.000000       4.000000       4.000000       1.000000   \n",
       "50%        11.000000       4.000000       6.000000       1.000000   \n",
       "75%        19.000000       4.000000      13.000000       1.000000   \n",
       "max        24.000000       4.000000      22.000000       1.000000   \n",
       "\n",
       "             section       odometer          plant          usage  \n",
       "count  136335.000000  136335.000000  136335.000000  136335.000000  \n",
       "mean        4.744475   15952.705798       2.577497      14.811787  \n",
       "std         2.419431   10508.969083       1.814414       6.547104  \n",
       "min         0.000000       0.000000       0.000000       1.000000  \n",
       "25%         3.000000    7046.000000       1.000000      10.000000  \n",
       "50%         5.000000   13955.000000       3.000000      15.000000  \n",
       "75%         7.000000   23177.000000       4.000000      20.000000  \n",
       "max         8.000000   40000.000000       7.000000      28.000000  "
      ]
     },
     "execution_count": 28,
     "metadata": {},
     "output_type": "execute_result"
    }
   ],
   "source": [
    "df4.describe()"
   ]
  },
  {
   "cell_type": "code",
   "execution_count": 30,
   "id": "8e7be6d9",
   "metadata": {},
   "outputs": [],
   "source": [
    "# Splitting data into main and validation set\n",
    "df = df4.iloc[:100000,:]\n",
    "df_val = df4.iloc[100000:,:]"
   ]
  },
  {
   "cell_type": "code",
   "execution_count": 33,
   "id": "1f158cfd",
   "metadata": {},
   "outputs": [],
   "source": [
    "# Creating input and target dataset from validation set\n",
    "X_val = df_val.drop(['faultmonth', 'target', 'part', 'petrol' ,'usage', 'odometer'], axis=1)\n",
    "y_val = df_val['part']"
   ]
  },
  {
   "cell_type": "code",
   "execution_count": 35,
   "id": "81e39aae",
   "metadata": {},
   "outputs": [],
   "source": [
    "# Creating different dataframe for 3M, 6M, and 12M analysis\n",
    "df_3M = df[df['target'] == '1']\n",
    "df_6M = df[df['target'] == '2']\n",
    "df_12M = df[df['target'] == '3']"
   ]
  },
  {
   "cell_type": "code",
   "execution_count": 36,
   "id": "f61c377e",
   "metadata": {},
   "outputs": [
    {
     "data": {
      "text/html": [
       "<div>\n",
       "<style scoped>\n",
       "    .dataframe tbody tr th:only-of-type {\n",
       "        vertical-align: middle;\n",
       "    }\n",
       "\n",
       "    .dataframe tbody tr th {\n",
       "        vertical-align: top;\n",
       "    }\n",
       "\n",
       "    .dataframe thead th {\n",
       "        text-align: right;\n",
       "    }\n",
       "</style>\n",
       "<table border=\"1\" class=\"dataframe\">\n",
       "  <thead>\n",
       "    <tr style=\"text-align: right;\">\n",
       "      <th></th>\n",
       "      <th>code</th>\n",
       "      <th>model</th>\n",
       "      <th>section</th>\n",
       "      <th>plant</th>\n",
       "    </tr>\n",
       "  </thead>\n",
       "  <tbody>\n",
       "    <tr>\n",
       "      <th>0</th>\n",
       "      <td>4</td>\n",
       "      <td>8</td>\n",
       "      <td>8</td>\n",
       "      <td>1</td>\n",
       "    </tr>\n",
       "    <tr>\n",
       "      <th>1</th>\n",
       "      <td>1</td>\n",
       "      <td>1</td>\n",
       "      <td>8</td>\n",
       "      <td>0</td>\n",
       "    </tr>\n",
       "    <tr>\n",
       "      <th>2</th>\n",
       "      <td>4</td>\n",
       "      <td>0</td>\n",
       "      <td>7</td>\n",
       "      <td>0</td>\n",
       "    </tr>\n",
       "  </tbody>\n",
       "</table>\n",
       "</div>"
      ],
      "text/plain": [
       "   code  model  section  plant\n",
       "0     4      8        8      1\n",
       "1     1      1        8      0\n",
       "2     4      0        7      0"
      ]
     },
     "execution_count": 36,
     "metadata": {},
     "output_type": "execute_result"
    }
   ],
   "source": [
    "# Creating an input and output dataset\n",
    "X = df.drop(['faultmonth', 'target', 'part', 'petrol' ,'usage', 'odometer'], axis=1)\n",
    "y = df['part']\n",
    "X.head(3)"
   ]
  },
  {
   "cell_type": "code",
   "execution_count": 37,
   "id": "150bfcc8",
   "metadata": {},
   "outputs": [],
   "source": [
    "# Splitting the model into train test split\n",
    "from sklearn.model_selection import train_test_split\n",
    "X_train, X_test, y_train, y_test = train_test_split(X,y,test_size=0.3, random_state=1)"
   ]
  },
  {
   "cell_type": "code",
   "execution_count": 38,
   "id": "503d8277",
   "metadata": {},
   "outputs": [
    {
     "data": {
      "text/plain": [
       "0.7758"
      ]
     },
     "execution_count": 38,
     "metadata": {},
     "output_type": "execute_result"
    }
   ],
   "source": [
    "# Calculating model accuracy based on model score (Ussed RandomForest after comapring with other models)\n",
    "from sklearn.ensemble import RandomForestClassifier\n",
    "rf = RandomForestClassifier()\n",
    "rf.fit(X_train,y_train)\n",
    "rf.score(X_test,y_test)"
   ]
  },
  {
   "cell_type": "code",
   "execution_count": 39,
   "id": "74b12b66",
   "metadata": {},
   "outputs": [
    {
     "data": {
      "text/plain": [
       "array([0.29519303, 0.84798286, 1.94054954, 0.45292138])"
      ]
     },
     "execution_count": 39,
     "metadata": {},
     "output_type": "execute_result"
    }
   ],
   "source": [
    "# Determing the feature importance using mutual information \n",
    "#I have used all the columns initaially and chose the important ones\n",
    "from sklearn.feature_selection import mutual_info_classif\n",
    "# determine the mutual information\n",
    "mutual_info = mutual_info_classif(X_train, y_train)\n",
    "mutual_info"
   ]
  },
  {
   "cell_type": "code",
   "execution_count": 40,
   "id": "11f21dce",
   "metadata": {},
   "outputs": [
    {
     "data": {
      "text/plain": [
       "0.6988578505573139"
      ]
     },
     "execution_count": 40,
     "metadata": {},
     "output_type": "execute_result"
    }
   ],
   "source": [
    "# Using validation dataset\n",
    "rf.score(X_val,y_val)"
   ]
  },
  {
   "cell_type": "code",
   "execution_count": 41,
   "id": "88e7008f",
   "metadata": {},
   "outputs": [
    {
     "data": {
      "image/png": "[encoded data removed]",
      "text/plain": [
       "<Figure size 1224x432 with 1 Axes>"
      ]
     },
     "metadata": {
      "needs_background": "light"
     },
     "output_type": "display_data"
    }
   ],
   "source": [
    "# Plotting 3M trend\n",
    "plt.figure(figsize=(17,6))\n",
    "\n",
    "graph = sns.countplot(x ='faultmonth', data = df_3M)\n",
    "graph.bar_label(graph.containers[0])\n",
    "\n",
    "plt.xticks(rotation=90, horizontalalignment=\"center\")\n",
    "plt.title(\"3 Month Wise Trend\")\n",
    "plt.xlabel(\"Timeline\")\n",
    "\n",
    "plt.ylabel(\"Count\")\n",
    "plt.show()"
   ]
  },
  {
   "cell_type": "code",
   "execution_count": 42,
   "id": "71f437f3",
   "metadata": {},
   "outputs": [
    {
     "data": {
      "image/png": "[encoded data removed]",
      "text/plain": [
       "<Figure size 1224x432 with 1 Axes>"
      ]
     },
     "metadata": {
      "needs_background": "light"
     },
     "output_type": "display_data"
    }
   ],
   "source": [
    "# Plotting 6M trend\n",
    "plt.figure(figsize=(17,6))\n",
    "\n",
    "graph = sns.countplot(x ='faultmonth', data = df_6M)\n",
    "graph.bar_label(graph.containers[0])\n",
    "\n",
    "plt.xticks(rotation=90, horizontalalignment=\"center\")\n",
    "plt.title(\"6 Month Wise Trend\")\n",
    "plt.xlabel(\"Timeline\")\n",
    "\n",
    "plt.ylabel(\"Count\")\n",
    "plt.show()"
   ]
  },
  {
   "cell_type": "code",
   "execution_count": 43,
   "id": "52f92b55",
   "metadata": {},
   "outputs": [
    {
     "data": {
      "image/png": "[encoded data removed]",
      "text/plain": [
       "<Figure size 1224x432 with 1 Axes>"
      ]
     },
     "metadata": {
      "needs_background": "light"
     },
     "output_type": "display_data"
    }
   ],
   "source": [
    "# Plotting 12M trend\n",
    "plt.figure(figsize=(17,6))\n",
    "\n",
    "graph = sns.countplot(x ='faultmonth', data = df_12M)\n",
    "graph.bar_label(graph.containers[0])\n",
    "\n",
    "plt.xticks(rotation=90, horizontalalignment=\"center\")\n",
    "plt.title(\"12 Month Wise Trend\")\n",
    "plt.xlabel(\"Timeline\")\n",
    "\n",
    "plt.ylabel(\"Count\")\n",
    "plt.show()"
   ]
  }
 ],
 "metadata": {
  "kernelspec": {
   "display_name": "Python 3 (ipykernel)",
   "language": "python",
   "name": "python3"
  },
  "language_info": {
   "codemirror_mode": {
    "name": "ipython",
    "version": 3
   },
   "file_extension": ".py",
   "mimetype": "text/x-python",
   "name": "python",
   "nbconvert_exporter": "python",
   "pygments_lexer": "ipython3",
   "version": "3.10.4"
  }
 },
 "nbformat": 4,
 "nbformat_minor": 5
}
